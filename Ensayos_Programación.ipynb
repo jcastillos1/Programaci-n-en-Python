{
  "nbformat": 4,
  "nbformat_minor": 0,
  "metadata": {
    "colab": {
      "provenance": []
    },
    "kernelspec": {
      "name": "python3",
      "display_name": "Python 3"
    }
  },
  "cells": [
    {
      "cell_type": "markdown",
      "metadata": {
        "id": "DRGtL2QGVNmg"
      },
      "source": [
        "# Método de Newton\n",
        "1. Dado $x_0 \\in Dom f$, determine la ecuacion de la recta tangente a f que pasa por ($x_0$, f($x_0$))\n",
        "2. Encuentre la raíz de la recta tangente\n"
      ]
    },
    {
      "cell_type": "markdown",
      "metadata": {
        "id": "UD8WVdpPWF6M"
      },
      "source": [
        "##Definición\n",
        "Se trata de un algoritmo para encontrar las raíces de una función real. También puede ser usado para encontrar el máximo o mínimo de una función. Fue escrito por Isaac Newton en 1669 y publicado en 1711 por William Jones. El método, no tiene garantizado su convergencia global; es decir, no funciona para toda función real y no menos importante, sólo trabaja para funciones de una sola variable y en particular con polinomios. \n",
        "\n",
        "¿Cómo funciona?, se trata de dada una función real $f(x)$ (en particular polinomio), hallaremos una recta tangente a la función en un punto $(x_0,f(x_0))$, a partir de la ecuación de la recta (punto-pendiente). Luego; a esta recta, encontramos el punto de corte con el eje x y a este valor le hallamos $x_1$ y su respectivo $(x_1,f(x_1))$. Así; sucesivamente hasta un $(x_n,f(x_n))$, en donde este punto será la aproximación más cercana a la raíz de la función y a cada $x_n$ le llamamos \"interaciones\" y gráficamente lo podemos ver como:\n",
        "\n",
        "![Imagen](https://siqueiresaprenderingenieria.files.wordpress.com/2014/05/800px-newton_iteration.png)"
      ]
    },
    {
      "cell_type": "markdown",
      "metadata": {
        "id": "fL5g85Dy6zJ_"
      },
      "source": [
        "##Demostración\n",
        "1. Queremos determinar la ecuación de la recta tangente que pasa por $(x,f(x))$. Para esto, sabemos que $m_t=f'(x_0)$ en un punto $(x_0,f(x_0))$. Ahora, utilizamos la ecuación de la recta (punto-pendiente): $m_t = \\frac{y - y_0}{x-x_0}$. Pero como $m_t=f'(x_0)$ y $f(x_0)=y_0$, entonces reemplazando tendremos que: $f'(x_0) = \\frac{y - f(x_0)}{x-x_0}$. De este modo; despejando \"y\":  $y = f'(x_0)x-x_0f'(x_0)+f(x_0)$, deducimos la ecuación de la recta tangente a un punto dado \"$x_0$\" en una funcion $f(x)$ en términos generales.\n",
        "\n",
        "\n",
        "2. Finalmente; deducimos la raíz de esta recta con el eje x, igualando la ecuación a cero o en otras palabras, calculando $f(x)=0$ y despejando $x$: $0 = f'(x_0)x-x_0f'(x_0)+f(x_0)$; luego, $x = \\frac{x_0f'(x_0)-f(x_0)}{f'(x_0)}$ y simplificando: $x = x_0 - \\frac{f(x_0)}{f'(x_0)}$, en donde \"x\" será el nuevo $x_1, x_2,...,x_n$ como queríamos demostrar."
      ]
    },
    {
      "cell_type": "markdown",
      "metadata": {
        "id": "wxjuKmW97o-_"
      },
      "source": [
        "##Código\n",
        "Como punto extra, intentaremos encontrar la raíz de una función para las primeras 3 interaciones por medio de código. Utilizando incialmente un paquete de programación llamado \"sympy\" y \"numpy\" para conceptos matematicos como las funciones y derivadas. Luego, agregamos una variable, la función y su derivada. Ahora, con el uso del \"$for$\" realizaremos el ciclo para encontrar las primeras 3 interaciones (por el momento), encontrando $f(a)$ y $f'(a)$, luego utilizamos la fórmula ya intuida y demostrada. Y finalmente lo gráficaremos para ayudarnos a visualizar qué función se está tratando. "
      ]
    },
    {
      "cell_type": "code",
      "metadata": {
        "id": "OSGxGL7QkAx3",
        "outputId": "240d3bce-c70b-4dc0-fa11-96350b504c80",
        "colab": {
          "base_uri": "https://localhost:8080/",
          "height": 296
        }
      },
      "source": [
        "import sympy as spp\n",
        "import numpy as np\n",
        "import matplotlib.pyplot as plt\n",
        "\n",
        "x = spp.symbols('x')\n",
        "funcion  = x**3-x-1\n",
        "derivada = spp.diff(funcion)\n",
        "x0=1\n",
        "A = []              \n",
        "for i in range(10) :\n",
        "  a = spp.sympify(funcion).subs(x,x0)\n",
        "  b = spp.sympify(derivada).subs(x,x0)\n",
        "  x0 = x0 - spp.N(a/b)\n",
        "  A.append(x0)\n",
        "print(A)\n",
        "\n",
        "\n",
        "q = np.arange(-1,2,0.001)\n",
        "w = q**3-q-1\n",
        "plt.scatter(q,w,1)\n",
        "plt.xlabel(r\"x\")\n",
        "plt.ylabel(r\"y\")\n",
        "plt.grid()\n",
        "\n",
        "# Siendo A, una lista con los resultados de las interaciones"
      ],
      "execution_count": null,
      "outputs": [
        {
          "output_type": "stream",
          "text": [
            "[1.50000000000000, 1.34782608695652, 1.32520039895091, 1.32471817399905, 1.32471795724479, 1.32471795724475, 1.32471795724475, 1.32471795724475, 1.32471795724475, 1.32471795724475]\n"
          ],
          "name": "stdout"
        },
        {
          "output_type": "display_data",
          "data": {
            "image/png": "[encoded data removed]",
            "text/plain": [
              "<Figure size 432x288 with 1 Axes>"
            ]
          },
          "metadata": {
            "tags": []
          }
        }
      ]
    },
    {
      "cell_type": "code",
      "metadata": {
        "id": "-zv8D0xzel-R",
        "outputId": "8d1cfba8-a61c-4512-c048-60de2f0f21d3",
        "colab": {
          "base_uri": "https://localhost:8080/",
          "height": 34
        }
      },
      "source": [
        "import sympy as spp\n",
        "import numpy as np\n",
        "import math as math\n",
        "\n",
        "x = spp.symbols('x')\n",
        "funcion  = x**2+(x+3)**2-9\n",
        "derivada = spp.diff(funcion)\n",
        "x0=1\n",
        "A = []              \n",
        "for i in range(5) :\n",
        "  a = spp.sympify(funcion).subs(x,x0)\n",
        "  b = spp.sympify(derivada).subs(x,x0)\n",
        "  x0 = x0 - spp.N(a/b)\n",
        "  A.append(x0)\n",
        "print(A)"
      ],
      "execution_count": null,
      "outputs": [
        {
          "output_type": "stream",
          "text": [
            "[0.200000000000000, 0.0117647058823527, 4.57770656901689e-5, 6.98492011409410e-10, 8.07730618501701e-17]\n"
          ],
          "name": "stdout"
        }
      ]
    },
    {
      "cell_type": "code",
      "metadata": {
        "id": "hIWhOm26ipdc",
        "outputId": "02addd20-6fcd-4270-efe5-fa227f2bb0db",
        "colab": {
          "base_uri": "https://localhost:8080/",
          "height": 51
        }
      },
      "source": [
        "import sympy as spp\n",
        "import numpy as np\n",
        "\n",
        "x = spp.symbols('x')\n",
        "funcion  = x+3\n",
        "derivada = spp.diff(funcion)\n",
        "x0=1\n",
        "A = []              \n",
        "for i in range(10) :\n",
        "  a = spp.sympify(funcion).subs(x,x0)\n",
        "  b = spp.sympify(derivada).subs(x,x0)\n",
        "  x0 = x0 - spp.N(a/b)\n",
        "  A.append(x0)\n",
        "print(A)\n",
        "print(spp.sympify(derivada).subs(x,A))"
      ],
      "execution_count": null,
      "outputs": [
        {
          "output_type": "stream",
          "text": [
            "[-3.00000000000000, -3.00000000000000, -3.00000000000000, -3.00000000000000, -3.00000000000000, -3.00000000000000, -3.00000000000000, -3.00000000000000, -3.00000000000000, -3.00000000000000]\n",
            "1\n"
          ],
          "name": "stdout"
        }
      ]
    },
    {
      "cell_type": "markdown",
      "metadata": {
        "id": "-dL1hHykgL_J"
      },
      "source": [
        "##Conclusión\n",
        "\n",
        "Observamos entonces que para la función \"$x^3-x-1$\" tiene como raíz el número $\\frac{71749}{54142}$; es decir, 1.3. Obtenido en la tercera interacion y desde $x_0=1$. De este modo, podemos encontrar la raíz de cualquier función real (de polinomios) con una precisión de un décimal, como también podemos comprobar la raíz en la gráfica de la función dada."
      ]
    },
    {
      "cell_type": "markdown",
      "metadata": {
        "id": "7TwyldPfrJNg"
      },
      "source": [
        "# Método de Bisección (punto medio)"
      ]
    },
    {
      "cell_type": "markdown",
      "metadata": {
        "id": "RTVs4J1PhEVX"
      },
      "source": [
        "## Algoritmo\n",
        "Entrada: \n",
        "1. f es una funcion continua\n",
        "2. a y b $\\in Dom f$, tal que $f(a)f(b)<0$\n",
        "3. tol = error, que expresa que tan lejos está la raíz aproximada a la real.\n",
        "4. Buscar el punto medio entre a y b:\n",
        "    \n",
        "  Proceso:\n",
        "```\n",
        "mientras Error>tol\n",
        "x = (a+b) /2\n",
        "Si f(a)f(b)<0 :\n",
        "  a=a\n",
        "  b=x\n",
        "Si f(a)f(b)>0 :\n",
        "  a=x\n",
        "  b=b\n",
        "Si f(a)f(b)=0 :\n",
        "  x es raíz de f(x)\n",
        "Error = |b-a|\n",
        "Salida x\n",
        "La raíz de la ecuación, será: x+-E\n",
        "```\n",
        "\n",
        "Teniendo en cuenta que es una sucesion que tiende a la raíz de la función: $a,b,x_1,x_2, ... , x_n$\n",
        "\n"
      ]
    },
    {
      "cell_type": "markdown",
      "metadata": {
        "id": "JYUbhpgN5Yks"
      },
      "source": [
        "## Código"
      ]
    },
    {
      "cell_type": "code",
      "metadata": {
        "id": "i2m-T89xDnao",
        "outputId": "0778b697-f39a-4fc5-aef6-17afd0350450",
        "colab": {
          "base_uri": "https://localhost:8080/",
          "height": 187
        }
      },
      "source": [
        "import sympy as spp\n",
        "import numpy as np\n",
        "from sympy.parsing.sympy_parser import parse_expr\n",
        "\n",
        "x = spp.symbols('x')\n",
        "funcion = x**2+3*x\n",
        "a0 = -4\n",
        "b0 = -1\n",
        "for i in range(10) :\n",
        "  fa0 = spp.sympify(funcion).subs(x,a0)\n",
        "  fb0 = spp.sympify(funcion).subs(x,b0)\n",
        "  c = (a0+b0)/2\n",
        "  fc = spp.sympify(funcion).subs(x,c)\n",
        "  if fc*fa0<0:\n",
        "    a0=a0\n",
        "    b0=c\n",
        "    print(\"1er caso, \", spp.N(c))\n",
        "  elif fc*fb0<0 :\n",
        "    b0=b0\n",
        "    a0=c\n",
        "    print(\"2er caso, \", spp.N(c))"
      ],
      "execution_count": null,
      "outputs": [
        {
          "output_type": "stream",
          "text": [
            "1er caso,  -2.50000000000000\n",
            "2er caso,  -3.25000000000000\n",
            "1er caso,  -2.87500000000000\n",
            "2er caso,  -3.06250000000000\n",
            "1er caso,  -2.96875000000000\n",
            "2er caso,  -3.01562500000000\n",
            "1er caso,  -2.99218750000000\n",
            "2er caso,  -3.00390625000000\n",
            "1er caso,  -2.99804687500000\n",
            "2er caso,  -3.00097656250000\n"
          ],
          "name": "stdout"
        }
      ]
    },
    {
      "cell_type": "markdown",
      "metadata": {
        "id": "WD-tsXCks5ka"
      },
      "source": [
        "# Método de Regula Falsi\n",
        "\n"
      ]
    },
    {
      "cell_type": "markdown",
      "metadata": {
        "id": "O0Y9_K9C3IEV"
      },
      "source": [
        "## Definición\n",
        "\n",
        "Como en el método de bisección, se parte de un intervalo inicial $[a_0,b_0]$ con $f(a_0)$ y $f(b_0)$ de signos opuestos, lo que garantiza que en su interior hay al menos una raíz. El algoritmo va obteniendo sucesivamente en cada paso un intervalo más pequeño $[a_n, b_n]$, que sigue incluyendo la raíz de la función f y con su aproximación. Ahora, a partir de un intervalo $[a_n, b_n]$ se calcula un punto interior $c_0$, como:\n",
        "\n",
        "$c_0 = \\frac{f(b_0)a_0-f(a_0)b_0}{f(b_0)-f(a_0)}$\n",
        "\n",
        "Dicho punto es la intersección de la recta que pasa por $(a_0,f(a_0))$ y $(b_0,f(b_0))$. Se evalúa entonces $f(c_0)$. Si es suficientemente pequeño, $c_0$ es la aproximación de la raíz buscada. Si no, el próximo intervalo $(a_0+1, b_0+1)$ será:\n",
        "\n",
        "1. $[a_0, c_0]$ si $f(a_0)$ y $f(c_0)$ tienen signos opuestos;\n",
        "2. $[c_0, b_0]$ en caso contrario."
      ]
    },
    {
      "cell_type": "markdown",
      "metadata": {
        "id": "1x1T9ZtD5Svv"
      },
      "source": [
        "## Código"
      ]
    },
    {
      "cell_type": "code",
      "metadata": {
        "id": "gJgUchGZ5WAb",
        "outputId": "ae8de6fb-7b44-4f5d-97eb-fbfa596606ed",
        "colab": {
          "base_uri": "https://localhost:8080/",
          "height": 435
        }
      },
      "source": [
        "import sympy as spp\n",
        "import numpy as np\n",
        "import matplotlib.pyplot as plt\n",
        "\n",
        "x = spp.symbols('x')\n",
        "funcion = (x+3)**2-(9-x**2)\n",
        "a0 = 10\n",
        "b0 = 15\n",
        "for i in range(10) :\n",
        "  fa = spp.sympify(funcion).subs(x,a0)\n",
        "  fb = spp.sympify(funcion).subs(x,b0)\n",
        "  c = (fb*a0-fa*b0)/(fb-fa)\n",
        "  fc = spp.sympify(funcion).subs(x,c)\n",
        "  if fc>0 and fc*fa<0 : #1ER CASO\n",
        "    a0=a0\n",
        "    b0=c\n",
        "    print(\"1er caso, \", spp.N(c))\n",
        "  elif fc>0 and fc*fa>0 : #2DO CASO\n",
        "    b0=b0\n",
        "    a0=c\n",
        "    print(\"2do caso, \", spp.N(c))\n",
        "  elif fc<0 and fc*fa>0 : #3ER CASO\n",
        "    a0=c\n",
        "    b0=b0\n",
        "    print(\"3er caso, \", spp.N(c))\n",
        "\n",
        "\n",
        "q = np.arange(-2,2,0.001)\n",
        "w = q**2-1\n",
        "plt.scatter(q,w,1)\n",
        "plt.grid()"
      ],
      "execution_count": null,
      "outputs": [
        {
          "output_type": "stream",
          "text": [
            "2do caso,  5.35714285714286\n",
            "2do caso,  3.44036697247706\n",
            "2do caso,  2.40693196405648\n",
            "2do caso,  1.76920173617664\n",
            "2do caso,  1.34239239382571\n",
            "2do caso,  1.04102354545414\n",
            "2do caso,  0.820090009580401\n",
            "2do caso,  0.653628656262748\n",
            "2do caso,  0.525604429283495\n",
            "2do caso,  0.425576745382194\n"
          ],
          "name": "stdout"
        },
        {
          "output_type": "display_data",
          "data": {
            "image/png": "[encoded data removed]",
            "text/plain": [
              "<Figure size 432x288 with 1 Axes>"
            ]
          },
          "metadata": {
            "tags": []
          }
        }
      ]
    },
    {
      "cell_type": "markdown",
      "metadata": {
        "id": "4vTH0oYFxcAZ"
      },
      "source": [
        "## Conclusión\n",
        "\n",
        "Comprobamos que este método, es muy preciso para pocas interaciones, al igual que el código, y además funciona para cualquier función continua. Ahora; hablando del código, podemos observar que sólo es efectivo para funciones crecientes y, con intervalos, $(a_0,b_0)$, en donde la raíz de la función se encuentre dentro."
      ]
    },
    {
      "cell_type": "markdown",
      "metadata": {
        "id": "NuGkU0vqtgZQ"
      },
      "source": [
        "# Método de la Secante"
      ]
    },
    {
      "cell_type": "markdown",
      "metadata": {
        "id": "pkttvnpL-9rW"
      },
      "source": [
        "## Definición\n",
        "El método de la secante se puede pensar como una simplificación del método de Newton-Raphson.\n",
        "En lugar de tomar la derivada de la función cuya raíz se quiere encontrar, se aproxima por una recta\n",
        "secante (de ahí el nombre) a la curva, cuya pendiente es aproximadamente igual a la derivada en el\n",
        "punto inicial. La principal diferencia con el método anterior es conocer dos puntos del a función para\n",
        "poder generar dicha recta. Sean $x0$ y $x1$ pertenecientes a cierta $f(x)$ se puede definir:\n",
        "\n",
        "$f'(x)\\approx \\frac{\\Delta y}{\\Delta x}=\\frac{f(x_1)-f(x_0)}{x_1-x_0}$\n",
        "\n",
        "Luego, reemplazando en el método de Newton-Raphson:\n",
        "$x_{n+1}=x_n-\\frac{f(x_n)}{f'(x_n)}$\n",
        "\n",
        "$x_{n+1}=x_n-f(x_n)*\\frac{x_n-x_{n-1}}{f(x_n)-f(x_{n-1})}$"
      ]
    },
    {
      "cell_type": "markdown",
      "metadata": {
        "id": "dnyUuHrT_D-i"
      },
      "source": [
        "## Código"
      ]
    },
    {
      "cell_type": "code",
      "metadata": {
        "id": "1MoZ2untrdKj",
        "outputId": "84644c50-669b-4c8e-fcde-b0b50258ea9e",
        "colab": {
          "base_uri": "https://localhost:8080/",
          "height": 153
        }
      },
      "source": [
        "import numpy as  np\n",
        "import sympy as  spp\n",
        "from sympy import Symbol                             \n",
        "from sympy.parsing.sympy_parser import parse_expr\n",
        "\n",
        "def secante():\n",
        "  x=Symbol('x') \n",
        "print (\"Método de la secante:\")\n",
        "x=Symbol('x') \n",
        "f=input(\"Cuál es su función:\")\n",
        "f=parse_expr(f)\n",
        "x1=input('Introduce el valor de inicio x1: ')\n",
        "x1=parse_expr(x1)\n",
        "x0=input('Introduce el valor de inicio x0: ')\n",
        "x0=parse_expr(x0)\n",
        "fx1= spp.sympify(f).subs(x,x1)\n",
        "fx0= spp.sympify(f).subs(x,x0)\n",
        "tol=0.001\n",
        "raiz=[]\n",
        "raiz.insert(0,0)\n",
        "i=0\n",
        "error=1\n",
        "while abs(error) >  tol:\n",
        "    x2 = x1 - (fx1*(x1-x0))/(fx1-fx0)\n",
        "    raiz.append(x2)\n",
        "    x0 = x1\n",
        "    x1 = x2\n",
        "    i=i+1\n",
        "    error=(raiz[i]-raiz[i-1])/raiz[i]\n",
        "    print (\"Solución aproximada:{: .4f}\",spp.N (x0))\n",
        "\n"
      ],
      "execution_count": null,
      "outputs": [
        {
          "output_type": "stream",
          "text": [
            "Método de la secante:\n",
            "Cuál es su función:x**2-1\n",
            "Introduce el valor de inicio x1: 0\n",
            "Introduce el valor de inicio x0: 4\n",
            "Solución aproximada:{: .4f} 0\n",
            "Solución aproximada:{: .4f} 0.250000000000000\n",
            "Solución aproximada:{: .4f} 0.234375000000000\n",
            "Solución aproximada:{: .4f} 0.235351562500000\n"
          ],
          "name": "stdout"
        }
      ]
    },
    {
      "cell_type": "code",
      "metadata": {
        "id": "-UDQ-rjGrh0v"
      },
      "source": [],
      "execution_count": null,
      "outputs": []
    },
    {
      "cell_type": "code",
      "metadata": {
        "id": "Yh6ZSEMK5s8e",
        "outputId": "49af6dea-5ac9-4b4e-c1c9-8c758fec9dfd",
        "colab": {
          "base_uri": "https://localhost:8080/",
          "height": 180
        }
      },
      "source": [
        "A=([0.5],[0.25],[0.125],[0.0625],[0.03125],[0.015625],[0.0078125],[0.00390625],[0.001953125],[0.0009765625])\n",
        "print(A*(1/-3))"
      ],
      "execution_count": null,
      "outputs": [
        {
          "output_type": "error",
          "ename": "TypeError",
          "evalue": "ignored",
          "traceback": [
            "\u001b[0;31m---------------------------------------------------------------------------\u001b[0m",
            "\u001b[0;31mTypeError\u001b[0m                                 Traceback (most recent call last)",
            "\u001b[0;32m<ipython-input-53-5d91496cc76a>\u001b[0m in \u001b[0;36m<module>\u001b[0;34m()\u001b[0m\n\u001b[1;32m      1\u001b[0m \u001b[0mA\u001b[0m\u001b[0;34m=\u001b[0m\u001b[0;34m(\u001b[0m\u001b[0;34m[\u001b[0m\u001b[0;36m0.5\u001b[0m\u001b[0;34m]\u001b[0m\u001b[0;34m,\u001b[0m\u001b[0;34m[\u001b[0m\u001b[0;36m0.25\u001b[0m\u001b[0;34m]\u001b[0m\u001b[0;34m,\u001b[0m\u001b[0;34m[\u001b[0m\u001b[0;36m0.125\u001b[0m\u001b[0;34m]\u001b[0m\u001b[0;34m,\u001b[0m\u001b[0;34m[\u001b[0m\u001b[0;36m0.0625\u001b[0m\u001b[0;34m]\u001b[0m\u001b[0;34m,\u001b[0m\u001b[0;34m[\u001b[0m\u001b[0;36m0.03125\u001b[0m\u001b[0;34m]\u001b[0m\u001b[0;34m,\u001b[0m\u001b[0;34m[\u001b[0m\u001b[0;36m0.015625\u001b[0m\u001b[0;34m]\u001b[0m\u001b[0;34m,\u001b[0m\u001b[0;34m[\u001b[0m\u001b[0;36m0.0078125\u001b[0m\u001b[0;34m]\u001b[0m\u001b[0;34m,\u001b[0m\u001b[0;34m[\u001b[0m\u001b[0;36m0.00390625\u001b[0m\u001b[0;34m]\u001b[0m\u001b[0;34m,\u001b[0m\u001b[0;34m[\u001b[0m\u001b[0;36m0.001953125\u001b[0m\u001b[0;34m]\u001b[0m\u001b[0;34m,\u001b[0m\u001b[0;34m[\u001b[0m\u001b[0;36m0.0009765625\u001b[0m\u001b[0;34m]\u001b[0m\u001b[0;34m)\u001b[0m\u001b[0;34m\u001b[0m\u001b[0;34m\u001b[0m\u001b[0m\n\u001b[0;32m----> 2\u001b[0;31m \u001b[0mprint\u001b[0m\u001b[0;34m(\u001b[0m\u001b[0mA\u001b[0m\u001b[0;34m*\u001b[0m\u001b[0;34m(\u001b[0m\u001b[0;36m1\u001b[0m\u001b[0;34m/\u001b[0m\u001b[0;34m-\u001b[0m\u001b[0;36m3\u001b[0m\u001b[0;34m)\u001b[0m\u001b[0;34m)\u001b[0m\u001b[0;34m\u001b[0m\u001b[0;34m\u001b[0m\u001b[0m\n\u001b[0m",
            "\u001b[0;31mTypeError\u001b[0m: can't multiply sequence by non-int of type 'float'"
          ]
        }
      ]
    },
    {
      "cell_type": "code",
      "metadata": {
        "id": "v1hv8PAX6ChI",
        "outputId": "4bb3ed0f-abc3-4a2e-a5ca-a0343b744718",
        "colab": {
          "base_uri": "https://localhost:8080/",
          "height": 289
        }
      },
      "source": [
        "import numpy as np\n",
        "import sympy as spp\n",
        "from sympy.parsing.sympy_parser import parse_expr\n",
        "\n",
        "x,y,h,k = spp.symbols('x y h k')\n",
        "n = input(\"Ingrese el valor h de f(x): \"); n = parse_expr (n)\n",
        "m = input(\"Ingrese el valor k de g(x): \"); m = parse_expr (m)\n",
        "o = input(\"f(x): \"); o = parse_expr (o)\n",
        "p = input(\"g(x): \"); p = parse_expr (p)\n",
        "f = o-n\n",
        "g = p-m\n",
        "x0 = input(\"Ingrese el valor inicial x0: \"); x0 = parse_expr (x0)\n",
        "y0 = input(\"Ingrese el valor incial y0: \"); y0 = parse_expr (y0)\n",
        "\n",
        "for i in range(10) :\n",
        "  dfx = spp.diff(f,x); dfy = spp.diff(f,y)\n",
        "  dgx = spp.diff(g,x); dgy = spp.diff(g,y)\n",
        "  a=dfx.subs(x,x0); b=dfy.subs(y,y0)\n",
        "  c=dgx.subs(x,x0); d=dgy.subs(y,y0)\n",
        "\n",
        "  A = spp.Matrix([[a,b],[c,d]])\n",
        "  dA = A.det()\n",
        "\n",
        "  u0 = f.subs(x,x0); u = u0.subs(y,y0)\n",
        "  v0 = g.subs(x,x0); v = v0.subs(y,y0)\n",
        "  x0 = x0 - (u*d-v*b)/dA\n",
        "  y0 = y0 - (v*a-u*c)/dA\n",
        "  print(\"La solución más cercana al punto x0,y0 es: \", spp.N(x0), spp.N(y0))"
      ],
      "execution_count": null,
      "outputs": [
        {
          "output_type": "stream",
          "text": [
            "Ingrese el valor h de f(x): 9\n",
            "Ingrese el valor k de g(x): 3\n",
            "f(x): x**2+y**2\n",
            "g(x): y-x\n",
            "Ingrese el valor inicial x0: 2\n",
            "Ingrese el valor incial y0: 1\n",
            "La solución más cercana al punto x0,y0 es:  1.33333333333333 4.33333333333333\n",
            "La solución más cercana al punto x0,y0 es:  0.313725490196078 3.31372549019608\n",
            "La solución más cercana al punto x0,y0 es:  0.0271330153683095 3.02713301536831\n",
            "La solución más cercana al punto x0,y0 es:  0.000241040078227686 3.00024104007823\n",
            "La solución más cercana al punto x0,y0 es:  1.93636614916825e-8 3.00000001936366\n",
            "La solución más cercana al punto x0,y0 es:  1.24983793841394e-16 3.00000000000000\n",
            "La solución más cercana al punto x0,y0 es:  5.20698290766265e-33 3.00000000000000\n",
            "La solución más cercana al punto x0,y0 es:  9.03755700023033e-66 3.00000000000000\n",
            "La solución más cercana al punto x0,y0 es:  2.72258121774708e-131 3.00000000000000\n",
            "La solución más cercana al punto x0,y0 es:  2.47081616240972e-262 3.00000000000000\n"
          ],
          "name": "stdout"
        }
      ]
    }
  ]
}