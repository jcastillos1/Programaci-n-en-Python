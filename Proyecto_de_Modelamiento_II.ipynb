{
  "nbformat": 4,
  "nbformat_minor": 0,
  "metadata": {
    "colab": {
      "provenance": [],
      "collapsed_sections": [
        "aueuRbcvydEy",
        "KdyqATjOuQos",
        "50vJCyO--5zk",
        "VtVcPCr5uDfV",
        "8h3RFLGOuTWl",
        "OZzgcS88ufs9",
        "UeKompjgC48K",
        "ON44cg93uutk",
        "NitrciYUNSO5",
        "LReJ7kQJZbOD",
        "-g071LL4WpuN",
        "PAyucX88peRr",
        "yeM9kMCir_3R",
        "lTuLMQZZ0BxT",
        "oGeH9doR10Mf",
        "BUEXDybBygSH",
        "5mWWlCArp085"
      ]
    },
    "kernelspec": {
      "name": "python3",
      "display_name": "Python 3"
    },
    "widgets": {
      "application/vnd.jupyter.widget-state+json": {
        "e5e00b2abb5748c59b56ffddec569f48": {
          "model_module": "@jupyter-widgets/controls",
          "model_name": "VBoxModel",
          "model_module_version": "1.5.0",
          "state": {
            "_view_name": "VBoxView",
            "_dom_classes": [
              "widget-interact"
            ],
            "_model_name": "VBoxModel",
            "_view_module": "@jupyter-widgets/controls",
            "_model_module_version": "1.5.0",
            "_view_count": null,
            "_view_module_version": "1.5.0",
            "box_style": "",
            "layout": "IPY_MODEL_cecba6266c1741ea985038913666431b",
            "_model_module": "@jupyter-widgets/controls",
            "children": [
              "IPY_MODEL_80d096be864c44399e480093a0746312",
              "IPY_MODEL_170608bba7134ca3bbb613c78f68e04b",
              "IPY_MODEL_4a8ed04c35094809a3c20b96931e0e08",
              "IPY_MODEL_be502231e27a4f2f90aac12e33fc849f",
              "IPY_MODEL_e5c9764d27444f3bb217ebb94b9add65"
            ]
          }
        },
        "cecba6266c1741ea985038913666431b": {
          "model_module": "@jupyter-widgets/base",
          "model_name": "LayoutModel",
          "model_module_version": "1.2.0",
          "state": {
            "_view_name": "LayoutView",
            "grid_template_rows": null,
            "right": null,
            "justify_content": null,
            "_view_module": "@jupyter-widgets/base",
            "overflow": null,
            "_model_module_version": "1.2.0",
            "_view_count": null,
            "flex_flow": null,
            "width": null,
            "min_width": null,
            "border": null,
            "align_items": null,
            "bottom": null,
            "_model_module": "@jupyter-widgets/base",
            "top": null,
            "grid_column": null,
            "overflow_y": null,
            "overflow_x": null,
            "grid_auto_flow": null,
            "grid_area": null,
            "grid_template_columns": null,
            "flex": null,
            "_model_name": "LayoutModel",
            "justify_items": null,
            "grid_row": null,
            "max_height": null,
            "align_content": null,
            "visibility": null,
            "align_self": null,
            "height": null,
            "min_height": null,
            "padding": null,
            "grid_auto_rows": null,
            "grid_gap": null,
            "max_width": null,
            "order": null,
            "_view_module_version": "1.2.0",
            "grid_template_areas": null,
            "object_position": null,
            "object_fit": null,
            "grid_auto_columns": null,
            "margin": null,
            "display": null,
            "left": null
          }
        },
        "80d096be864c44399e480093a0746312": {
          "model_module": "@jupyter-widgets/controls",
          "model_name": "IntTextModel",
          "model_module_version": "1.5.0",
          "state": {
            "_view_name": "IntTextView",
            "style": "IPY_MODEL_8524e1dc0fcf4719a11d9bc78eab3fa2",
            "_dom_classes": [],
            "description": "Altura neta (m): ",
            "_model_name": "IntTextModel",
            "_view_module": "@jupyter-widgets/controls",
            "_model_module_version": "1.5.0",
            "value": 400,
            "_view_count": null,
            "disabled": false,
            "_view_module_version": "1.5.0",
            "continuous_update": false,
            "step": 10,
            "description_tooltip": null,
            "_model_module": "@jupyter-widgets/controls",
            "layout": "IPY_MODEL_08ceb8499746496fb7bd50796a440517"
          }
        },
        "170608bba7134ca3bbb613c78f68e04b": {
          "model_module": "@jupyter-widgets/controls",
          "model_name": "FloatSliderModel",
          "model_module_version": "1.5.0",
          "state": {
            "_view_name": "FloatSliderView",
            "style": "IPY_MODEL_c4148295b0cf4486a15cc3547a0f64a8",
            "_dom_classes": [],
            "description": "Diámetro de la turbina (m): ",
            "step": 0.01,
            "_model_name": "FloatSliderModel",
            "orientation": "horizontal",
            "max": 1,
            "_view_module": "@jupyter-widgets/controls",
            "_model_module_version": "1.5.0",
            "value": 0.79,
            "_view_count": null,
            "disabled": false,
            "_view_module_version": "1.5.0",
            "min": 0.1,
            "continuous_update": true,
            "readout_format": ".2f",
            "description_tooltip": null,
            "readout": true,
            "_model_module": "@jupyter-widgets/controls",
            "layout": "IPY_MODEL_5c053c8f75d1488bb0bdf080beab3108"
          }
        },
        "4a8ed04c35094809a3c20b96931e0e08": {
          "model_module": "@jupyter-widgets/controls",
          "model_name": "FloatSliderModel",
          "model_module_version": "1.5.0",
          "state": {
            "_view_name": "FloatSliderView",
            "style": "IPY_MODEL_6aae4e145c5d4ace94d7c73228dbe991",
            "_dom_classes": [],
            "description": "Diámetro del chorro (cm): ",
            "step": 0.5,
            "_model_name": "FloatSliderModel",
            "orientation": "horizontal",
            "max": 10,
            "_view_module": "@jupyter-widgets/controls",
            "_model_module_version": "1.5.0",
            "value": 7,
            "_view_count": null,
            "disabled": false,
            "_view_module_version": "1.5.0",
            "min": 0,
            "continuous_update": true,
            "readout_format": ".2f",
            "description_tooltip": null,
            "readout": true,
            "_model_module": "@jupyter-widgets/controls",
            "layout": "IPY_MODEL_29d219465f2040b1a4e742ddb6bf1901"
          }
        },
        "be502231e27a4f2f90aac12e33fc849f": {
          "model_module": "@jupyter-widgets/controls",
          "model_name": "IntTextModel",
          "model_module_version": "1.5.0",
          "state": {
            "_view_name": "IntTextView",
            "style": "IPY_MODEL_b5ddc688e7c14149ae143ebd7505a31d",
            "_dom_classes": [],
            "description": "Inyectores: ",
            "_model_name": "IntTextModel",
            "_view_module": "@jupyter-widgets/controls",
            "_model_module_version": "1.5.0",
            "value": 1,
            "_view_count": null,
            "disabled": false,
            "_view_module_version": "1.5.0",
            "continuous_update": false,
            "step": 1,
            "description_tooltip": null,
            "_model_module": "@jupyter-widgets/controls",
            "layout": "IPY_MODEL_556000fd69af46e5b224987226eb3913"
          }
        },
        "e5c9764d27444f3bb217ebb94b9add65": {
          "model_module": "@jupyter-widgets/output",
          "model_name": "OutputModel",
          "model_module_version": "1.0.0",
          "state": {
            "_view_name": "OutputView",
            "msg_id": "",
            "_dom_classes": [],
            "_model_name": "OutputModel",
            "outputs": [
              {
                "output_type": "stream",
                "metadata": {
                  "tags": []
                },
                "text": "\n\nPérdidas hidráulicas:  148.42 m\nVelocidad angular:  1557.75 rpm\nCaudal:  330.63 L/s\nPotencia:  815660.05 W\nRendimiento total:  61.01 %\n",
                "stream": "stdout"
              }
            ],
            "_view_module": "@jupyter-widgets/output",
            "_model_module_version": "1.0.0",
            "_view_count": null,
            "_view_module_version": "1.0.0",
            "layout": "IPY_MODEL_dfb8dbfce4d24ffab469db52e6df8324",
            "_model_module": "@jupyter-widgets/output"
          }
        },
        "8524e1dc0fcf4719a11d9bc78eab3fa2": {
          "model_module": "@jupyter-widgets/controls",
          "model_name": "DescriptionStyleModel",
          "model_module_version": "1.5.0",
          "state": {
            "_view_name": "StyleView",
            "_model_name": "DescriptionStyleModel",
            "description_width": "",
            "_view_module": "@jupyter-widgets/base",
            "_model_module_version": "1.5.0",
            "_view_count": null,
            "_view_module_version": "1.2.0",
            "_model_module": "@jupyter-widgets/controls"
          }
        },
        "08ceb8499746496fb7bd50796a440517": {
          "model_module": "@jupyter-widgets/base",
          "model_name": "LayoutModel",
          "model_module_version": "1.2.0",
          "state": {
            "_view_name": "LayoutView",
            "grid_template_rows": null,
            "right": null,
            "justify_content": null,
            "_view_module": "@jupyter-widgets/base",
            "overflow": null,
            "_model_module_version": "1.2.0",
            "_view_count": null,
            "flex_flow": null,
            "width": null,
            "min_width": null,
            "border": null,
            "align_items": null,
            "bottom": null,
            "_model_module": "@jupyter-widgets/base",
            "top": null,
            "grid_column": null,
            "overflow_y": null,
            "overflow_x": null,
            "grid_auto_flow": null,
            "grid_area": null,
            "grid_template_columns": null,
            "flex": null,
            "_model_name": "LayoutModel",
            "justify_items": null,
            "grid_row": null,
            "max_height": null,
            "align_content": null,
            "visibility": null,
            "align_self": null,
            "height": null,
            "min_height": null,
            "padding": null,
            "grid_auto_rows": null,
            "grid_gap": null,
            "max_width": null,
            "order": null,
            "_view_module_version": "1.2.0",
            "grid_template_areas": null,
            "object_position": null,
            "object_fit": null,
            "grid_auto_columns": null,
            "margin": null,
            "display": null,
            "left": null
          }
        },
        "c4148295b0cf4486a15cc3547a0f64a8": {
          "model_module": "@jupyter-widgets/controls",
          "model_name": "SliderStyleModel",
          "model_module_version": "1.5.0",
          "state": {
            "_view_name": "StyleView",
            "handle_color": null,
            "_model_name": "SliderStyleModel",
            "description_width": "",
            "_view_module": "@jupyter-widgets/base",
            "_model_module_version": "1.5.0",
            "_view_count": null,
            "_view_module_version": "1.2.0",
            "_model_module": "@jupyter-widgets/controls"
          }
        },
        "5c053c8f75d1488bb0bdf080beab3108": {
          "model_module": "@jupyter-widgets/base",
          "model_name": "LayoutModel",
          "model_module_version": "1.2.0",
          "state": {
            "_view_name": "LayoutView",
            "grid_template_rows": null,
            "right": null,
            "justify_content": null,
            "_view_module": "@jupyter-widgets/base",
            "overflow": null,
            "_model_module_version": "1.2.0",
            "_view_count": null,
            "flex_flow": null,
            "width": null,
            "min_width": null,
            "border": null,
            "align_items": null,
            "bottom": null,
            "_model_module": "@jupyter-widgets/base",
            "top": null,
            "grid_column": null,
            "overflow_y": null,
            "overflow_x": null,
            "grid_auto_flow": null,
            "grid_area": null,
            "grid_template_columns": null,
            "flex": null,
            "_model_name": "LayoutModel",
            "justify_items": null,
            "grid_row": null,
            "max_height": null,
            "align_content": null,
            "visibility": null,
            "align_self": null,
            "height": null,
            "min_height": null,
            "padding": null,
            "grid_auto_rows": null,
            "grid_gap": null,
            "max_width": null,
            "order": null,
            "_view_module_version": "1.2.0",
            "grid_template_areas": null,
            "object_position": null,
            "object_fit": null,
            "grid_auto_columns": null,
            "margin": null,
            "display": null,
            "left": null
          }
        },
        "6aae4e145c5d4ace94d7c73228dbe991": {
          "model_module": "@jupyter-widgets/controls",
          "model_name": "SliderStyleModel",
          "model_module_version": "1.5.0",
          "state": {
            "_view_name": "StyleView",
            "handle_color": null,
            "_model_name": "SliderStyleModel",
            "description_width": "",
            "_view_module": "@jupyter-widgets/base",
            "_model_module_version": "1.5.0",
            "_view_count": null,
            "_view_module_version": "1.2.0",
            "_model_module": "@jupyter-widgets/controls"
          }
        },
        "29d219465f2040b1a4e742ddb6bf1901": {
          "model_module": "@jupyter-widgets/base",
          "model_name": "LayoutModel",
          "model_module_version": "1.2.0",
          "state": {
            "_view_name": "LayoutView",
            "grid_template_rows": null,
            "right": null,
            "justify_content": null,
            "_view_module": "@jupyter-widgets/base",
            "overflow": null,
            "_model_module_version": "1.2.0",
            "_view_count": null,
            "flex_flow": null,
            "width": null,
            "min_width": null,
            "border": null,
            "align_items": null,
            "bottom": null,
            "_model_module": "@jupyter-widgets/base",
            "top": null,
            "grid_column": null,
            "overflow_y": null,
            "overflow_x": null,
            "grid_auto_flow": null,
            "grid_area": null,
            "grid_template_columns": null,
            "flex": null,
            "_model_name": "LayoutModel",
            "justify_items": null,
            "grid_row": null,
            "max_height": null,
            "align_content": null,
            "visibility": null,
            "align_self": null,
            "height": null,
            "min_height": null,
            "padding": null,
            "grid_auto_rows": null,
            "grid_gap": null,
            "max_width": null,
            "order": null,
            "_view_module_version": "1.2.0",
            "grid_template_areas": null,
            "object_position": null,
            "object_fit": null,
            "grid_auto_columns": null,
            "margin": null,
            "display": null,
            "left": null
          }
        },
        "b5ddc688e7c14149ae143ebd7505a31d": {
          "model_module": "@jupyter-widgets/controls",
          "model_name": "DescriptionStyleModel",
          "model_module_version": "1.5.0",
          "state": {
            "_view_name": "StyleView",
            "_model_name": "DescriptionStyleModel",
            "description_width": "",
            "_view_module": "@jupyter-widgets/base",
            "_model_module_version": "1.5.0",
            "_view_count": null,
            "_view_module_version": "1.2.0",
            "_model_module": "@jupyter-widgets/controls"
          }
        },
        "556000fd69af46e5b224987226eb3913": {
          "model_module": "@jupyter-widgets/base",
          "model_name": "LayoutModel",
          "model_module_version": "1.2.0",
          "state": {
            "_view_name": "LayoutView",
            "grid_template_rows": null,
            "right": null,
            "justify_content": null,
            "_view_module": "@jupyter-widgets/base",
            "overflow": null,
            "_model_module_version": "1.2.0",
            "_view_count": null,
            "flex_flow": null,
            "width": null,
            "min_width": null,
            "border": null,
            "align_items": null,
            "bottom": null,
            "_model_module": "@jupyter-widgets/base",
            "top": null,
            "grid_column": null,
            "overflow_y": null,
            "overflow_x": null,
            "grid_auto_flow": null,
            "grid_area": null,
            "grid_template_columns": null,
            "flex": null,
            "_model_name": "LayoutModel",
            "justify_items": null,
            "grid_row": null,
            "max_height": null,
            "align_content": null,
            "visibility": null,
            "align_self": null,
            "height": null,
            "min_height": null,
            "padding": null,
            "grid_auto_rows": null,
            "grid_gap": null,
            "max_width": null,
            "order": null,
            "_view_module_version": "1.2.0",
            "grid_template_areas": null,
            "object_position": null,
            "object_fit": null,
            "grid_auto_columns": null,
            "margin": null,
            "display": null,
            "left": null
          }
        },
        "dfb8dbfce4d24ffab469db52e6df8324": {
          "model_module": "@jupyter-widgets/base",
          "model_name": "LayoutModel",
          "model_module_version": "1.2.0",
          "state": {
            "_view_name": "LayoutView",
            "grid_template_rows": null,
            "right": null,
            "justify_content": null,
            "_view_module": "@jupyter-widgets/base",
            "overflow": null,
            "_model_module_version": "1.2.0",
            "_view_count": null,
            "flex_flow": null,
            "width": null,
            "min_width": null,
            "border": null,
            "align_items": null,
            "bottom": null,
            "_model_module": "@jupyter-widgets/base",
            "top": null,
            "grid_column": null,
            "overflow_y": null,
            "overflow_x": null,
            "grid_auto_flow": null,
            "grid_area": null,
            "grid_template_columns": null,
            "flex": null,
            "_model_name": "LayoutModel",
            "justify_items": null,
            "grid_row": null,
            "max_height": null,
            "align_content": null,
            "visibility": null,
            "align_self": null,
            "height": null,
            "min_height": null,
            "padding": null,
            "grid_auto_rows": null,
            "grid_gap": null,
            "max_width": null,
            "order": null,
            "_view_module_version": "1.2.0",
            "grid_template_areas": null,
            "object_position": null,
            "object_fit": null,
            "grid_auto_columns": null,
            "margin": null,
            "display": null,
            "left": null
          }
        },
        "1750a119a7484a068fe0670f69ff0c87": {
          "model_module": "@jupyter-widgets/controls",
          "model_name": "VBoxModel",
          "model_module_version": "1.5.0",
          "state": {
            "_view_name": "VBoxView",
            "_dom_classes": [
              "widget-interact"
            ],
            "_model_name": "VBoxModel",
            "_view_module": "@jupyter-widgets/controls",
            "_model_module_version": "1.5.0",
            "_view_count": null,
            "_view_module_version": "1.5.0",
            "box_style": "",
            "layout": "IPY_MODEL_b4778aec2abc44f5bd4d92f4db1c567e",
            "_model_module": "@jupyter-widgets/controls",
            "children": [
              "IPY_MODEL_4981a4b6859544e7a4f436480154b55e",
              "IPY_MODEL_fc2682e4b67a4fe1b5cf34b253947406",
              "IPY_MODEL_1d746ef4768d470f9fcec903ba197f94",
              "IPY_MODEL_f4c2de1108a44c2c87af8aed05184ad3",
              "IPY_MODEL_232a899c512d4a14aff6fd5022945219"
            ]
          }
        },
        "b4778aec2abc44f5bd4d92f4db1c567e": {
          "model_module": "@jupyter-widgets/base",
          "model_name": "LayoutModel",
          "model_module_version": "1.2.0",
          "state": {
            "_view_name": "LayoutView",
            "grid_template_rows": null,
            "right": null,
            "justify_content": null,
            "_view_module": "@jupyter-widgets/base",
            "overflow": null,
            "_model_module_version": "1.2.0",
            "_view_count": null,
            "flex_flow": null,
            "width": null,
            "min_width": null,
            "border": null,
            "align_items": null,
            "bottom": null,
            "_model_module": "@jupyter-widgets/base",
            "top": null,
            "grid_column": null,
            "overflow_y": null,
            "overflow_x": null,
            "grid_auto_flow": null,
            "grid_area": null,
            "grid_template_columns": null,
            "flex": null,
            "_model_name": "LayoutModel",
            "justify_items": null,
            "grid_row": null,
            "max_height": null,
            "align_content": null,
            "visibility": null,
            "align_self": null,
            "height": null,
            "min_height": null,
            "padding": null,
            "grid_auto_rows": null,
            "grid_gap": null,
            "max_width": null,
            "order": null,
            "_view_module_version": "1.2.0",
            "grid_template_areas": null,
            "object_position": null,
            "object_fit": null,
            "grid_auto_columns": null,
            "margin": null,
            "display": null,
            "left": null
          }
        },
        "4981a4b6859544e7a4f436480154b55e": {
          "model_module": "@jupyter-widgets/controls",
          "model_name": "IntTextModel",
          "model_module_version": "1.5.0",
          "state": {
            "_view_name": "IntTextView",
            "style": "IPY_MODEL_b28c8b4f9a6e4d46ad4e196d3a92a8a9",
            "_dom_classes": [],
            "description": "Altura neta (m): ",
            "_model_name": "IntTextModel",
            "_view_module": "@jupyter-widgets/controls",
            "_model_module_version": "1.5.0",
            "value": 15,
            "_view_count": null,
            "disabled": false,
            "_view_module_version": "1.5.0",
            "continuous_update": false,
            "step": 10,
            "description_tooltip": null,
            "_model_module": "@jupyter-widgets/controls",
            "layout": "IPY_MODEL_ba0050c02fcf4be092231d1d30520a4b"
          }
        },
        "fc2682e4b67a4fe1b5cf34b253947406": {
          "model_module": "@jupyter-widgets/controls",
          "model_name": "FloatSliderModel",
          "model_module_version": "1.5.0",
          "state": {
            "_view_name": "FloatSliderView",
            "style": "IPY_MODEL_eaaed23decce48ce93b7c34efc2eb23d",
            "_dom_classes": [],
            "description": "Diámetro de la turbina (m): ",
            "step": 0.01,
            "_model_name": "FloatSliderModel",
            "orientation": "horizontal",
            "max": 1,
            "_view_module": "@jupyter-widgets/controls",
            "_model_module_version": "1.5.0",
            "value": 0.3,
            "_view_count": null,
            "disabled": false,
            "_view_module_version": "1.5.0",
            "min": 0.1,
            "continuous_update": true,
            "readout_format": ".2f",
            "description_tooltip": null,
            "readout": true,
            "_model_module": "@jupyter-widgets/controls",
            "layout": "IPY_MODEL_2f11db6382b54cd9a9145d9348d2377d"
          }
        },
        "1d746ef4768d470f9fcec903ba197f94": {
          "model_module": "@jupyter-widgets/controls",
          "model_name": "FloatSliderModel",
          "model_module_version": "1.5.0",
          "state": {
            "_view_name": "FloatSliderView",
            "style": "IPY_MODEL_513e4d0271a047e59d214566c94af220",
            "_dom_classes": [],
            "description": "Diámetro del chorro (cm): ",
            "step": 0.5,
            "_model_name": "FloatSliderModel",
            "orientation": "horizontal",
            "max": 10,
            "_view_module": "@jupyter-widgets/controls",
            "_model_module_version": "1.5.0",
            "value": 5.5,
            "_view_count": null,
            "disabled": false,
            "_view_module_version": "1.5.0",
            "min": 0,
            "continuous_update": true,
            "readout_format": ".2f",
            "description_tooltip": null,
            "readout": true,
            "_model_module": "@jupyter-widgets/controls",
            "layout": "IPY_MODEL_ee9745a06b1d409a81bb995e311e6629"
          }
        },
        "f4c2de1108a44c2c87af8aed05184ad3": {
          "model_module": "@jupyter-widgets/controls",
          "model_name": "IntTextModel",
          "model_module_version": "1.5.0",
          "state": {
            "_view_name": "IntTextView",
            "style": "IPY_MODEL_645192c221524b949ae7fad4bb270259",
            "_dom_classes": [],
            "description": "Inyectores: ",
            "_model_name": "IntTextModel",
            "_view_module": "@jupyter-widgets/controls",
            "_model_module_version": "1.5.0",
            "value": 1,
            "_view_count": null,
            "disabled": false,
            "_view_module_version": "1.5.0",
            "continuous_update": false,
            "step": 1,
            "description_tooltip": null,
            "_model_module": "@jupyter-widgets/controls",
            "layout": "IPY_MODEL_ead9ef8832d34c8298836bc2a06e5268"
          }
        },
        "232a899c512d4a14aff6fd5022945219": {
          "model_module": "@jupyter-widgets/output",
          "model_name": "OutputModel",
          "model_module_version": "1.0.0",
          "state": {
            "_view_name": "OutputView",
            "msg_id": "",
            "_dom_classes": [],
            "_model_name": "OutputModel",
            "outputs": [
              {
                "output_type": "stream",
                "metadata": {
                  "tags": []
                },
                "text": "\n\nPérdida hidráulica:  4.41 m\nVelocidad angular:  794.36 rpm\nCaudal:  39.53 L/s\nPotencia:  3900.13 W\nRendimiento total:  67.08 %\n",
                "stream": "stdout"
              }
            ],
            "_view_module": "@jupyter-widgets/output",
            "_model_module_version": "1.0.0",
            "_view_count": null,
            "_view_module_version": "1.0.0",
            "layout": "IPY_MODEL_1481aaed8bf64496b65f4a11f2c7e865",
            "_model_module": "@jupyter-widgets/output"
          }
        },
        "b28c8b4f9a6e4d46ad4e196d3a92a8a9": {
          "model_module": "@jupyter-widgets/controls",
          "model_name": "DescriptionStyleModel",
          "model_module_version": "1.5.0",
          "state": {
            "_view_name": "StyleView",
            "_model_name": "DescriptionStyleModel",
            "description_width": "",
            "_view_module": "@jupyter-widgets/base",
            "_model_module_version": "1.5.0",
            "_view_count": null,
            "_view_module_version": "1.2.0",
            "_model_module": "@jupyter-widgets/controls"
          }
        },
        "ba0050c02fcf4be092231d1d30520a4b": {
          "model_module": "@jupyter-widgets/base",
          "model_name": "LayoutModel",
          "model_module_version": "1.2.0",
          "state": {
            "_view_name": "LayoutView",
            "grid_template_rows": null,
            "right": null,
            "justify_content": null,
            "_view_module": "@jupyter-widgets/base",
            "overflow": null,
            "_model_module_version": "1.2.0",
            "_view_count": null,
            "flex_flow": null,
            "width": null,
            "min_width": null,
            "border": null,
            "align_items": null,
            "bottom": null,
            "_model_module": "@jupyter-widgets/base",
            "top": null,
            "grid_column": null,
            "overflow_y": null,
            "overflow_x": null,
            "grid_auto_flow": null,
            "grid_area": null,
            "grid_template_columns": null,
            "flex": null,
            "_model_name": "LayoutModel",
            "justify_items": null,
            "grid_row": null,
            "max_height": null,
            "align_content": null,
            "visibility": null,
            "align_self": null,
            "height": null,
            "min_height": null,
            "padding": null,
            "grid_auto_rows": null,
            "grid_gap": null,
            "max_width": null,
            "order": null,
            "_view_module_version": "1.2.0",
            "grid_template_areas": null,
            "object_position": null,
            "object_fit": null,
            "grid_auto_columns": null,
            "margin": null,
            "display": null,
            "left": null
          }
        },
        "eaaed23decce48ce93b7c34efc2eb23d": {
          "model_module": "@jupyter-widgets/controls",
          "model_name": "SliderStyleModel",
          "model_module_version": "1.5.0",
          "state": {
            "_view_name": "StyleView",
            "handle_color": null,
            "_model_name": "SliderStyleModel",
            "description_width": "",
            "_view_module": "@jupyter-widgets/base",
            "_model_module_version": "1.5.0",
            "_view_count": null,
            "_view_module_version": "1.2.0",
            "_model_module": "@jupyter-widgets/controls"
          }
        },
        "2f11db6382b54cd9a9145d9348d2377d": {
          "model_module": "@jupyter-widgets/base",
          "model_name": "LayoutModel",
          "model_module_version": "1.2.0",
          "state": {
            "_view_name": "LayoutView",
            "grid_template_rows": null,
            "right": null,
            "justify_content": null,
            "_view_module": "@jupyter-widgets/base",
            "overflow": null,
            "_model_module_version": "1.2.0",
            "_view_count": null,
            "flex_flow": null,
            "width": null,
            "min_width": null,
            "border": null,
            "align_items": null,
            "bottom": null,
            "_model_module": "@jupyter-widgets/base",
            "top": null,
            "grid_column": null,
            "overflow_y": null,
            "overflow_x": null,
            "grid_auto_flow": null,
            "grid_area": null,
            "grid_template_columns": null,
            "flex": null,
            "_model_name": "LayoutModel",
            "justify_items": null,
            "grid_row": null,
            "max_height": null,
            "align_content": null,
            "visibility": null,
            "align_self": null,
            "height": null,
            "min_height": null,
            "padding": null,
            "grid_auto_rows": null,
            "grid_gap": null,
            "max_width": null,
            "order": null,
            "_view_module_version": "1.2.0",
            "grid_template_areas": null,
            "object_position": null,
            "object_fit": null,
            "grid_auto_columns": null,
            "margin": null,
            "display": null,
            "left": null
          }
        },
        "513e4d0271a047e59d214566c94af220": {
          "model_module": "@jupyter-widgets/controls",
          "model_name": "SliderStyleModel",
          "model_module_version": "1.5.0",
          "state": {
            "_view_name": "StyleView",
            "handle_color": null,
            "_model_name": "SliderStyleModel",
            "description_width": "",
            "_view_module": "@jupyter-widgets/base",
            "_model_module_version": "1.5.0",
            "_view_count": null,
            "_view_module_version": "1.2.0",
            "_model_module": "@jupyter-widgets/controls"
          }
        },
        "ee9745a06b1d409a81bb995e311e6629": {
          "model_module": "@jupyter-widgets/base",
          "model_name": "LayoutModel",
          "model_module_version": "1.2.0",
          "state": {
            "_view_name": "LayoutView",
            "grid_template_rows": null,
            "right": null,
            "justify_content": null,
            "_view_module": "@jupyter-widgets/base",
            "overflow": null,
            "_model_module_version": "1.2.0",
            "_view_count": null,
            "flex_flow": null,
            "width": null,
            "min_width": null,
            "border": null,
            "align_items": null,
            "bottom": null,
            "_model_module": "@jupyter-widgets/base",
            "top": null,
            "grid_column": null,
            "overflow_y": null,
            "overflow_x": null,
            "grid_auto_flow": null,
            "grid_area": null,
            "grid_template_columns": null,
            "flex": null,
            "_model_name": "LayoutModel",
            "justify_items": null,
            "grid_row": null,
            "max_height": null,
            "align_content": null,
            "visibility": null,
            "align_self": null,
            "height": null,
            "min_height": null,
            "padding": null,
            "grid_auto_rows": null,
            "grid_gap": null,
            "max_width": null,
            "order": null,
            "_view_module_version": "1.2.0",
            "grid_template_areas": null,
            "object_position": null,
            "object_fit": null,
            "grid_auto_columns": null,
            "margin": null,
            "display": null,
            "left": null
          }
        },
        "645192c221524b949ae7fad4bb270259": {
          "model_module": "@jupyter-widgets/controls",
          "model_name": "DescriptionStyleModel",
          "model_module_version": "1.5.0",
          "state": {
            "_view_name": "StyleView",
            "_model_name": "DescriptionStyleModel",
            "description_width": "",
            "_view_module": "@jupyter-widgets/base",
            "_model_module_version": "1.5.0",
            "_view_count": null,
            "_view_module_version": "1.2.0",
            "_model_module": "@jupyter-widgets/controls"
          }
        },
        "ead9ef8832d34c8298836bc2a06e5268": {
          "model_module": "@jupyter-widgets/base",
          "model_name": "LayoutModel",
          "model_module_version": "1.2.0",
          "state": {
            "_view_name": "LayoutView",
            "grid_template_rows": null,
            "right": null,
            "justify_content": null,
            "_view_module": "@jupyter-widgets/base",
            "overflow": null,
            "_model_module_version": "1.2.0",
            "_view_count": null,
            "flex_flow": null,
            "width": null,
            "min_width": null,
            "border": null,
            "align_items": null,
            "bottom": null,
            "_model_module": "@jupyter-widgets/base",
            "top": null,
            "grid_column": null,
            "overflow_y": null,
            "overflow_x": null,
            "grid_auto_flow": null,
            "grid_area": null,
            "grid_template_columns": null,
            "flex": null,
            "_model_name": "LayoutModel",
            "justify_items": null,
            "grid_row": null,
            "max_height": null,
            "align_content": null,
            "visibility": null,
            "align_self": null,
            "height": null,
            "min_height": null,
            "padding": null,
            "grid_auto_rows": null,
            "grid_gap": null,
            "max_width": null,
            "order": null,
            "_view_module_version": "1.2.0",
            "grid_template_areas": null,
            "object_position": null,
            "object_fit": null,
            "grid_auto_columns": null,
            "margin": null,
            "display": null,
            "left": null
          }
        },
        "1481aaed8bf64496b65f4a11f2c7e865": {
          "model_module": "@jupyter-widgets/base",
          "model_name": "LayoutModel",
          "model_module_version": "1.2.0",
          "state": {
            "_view_name": "LayoutView",
            "grid_template_rows": null,
            "right": null,
            "justify_content": null,
            "_view_module": "@jupyter-widgets/base",
            "overflow": null,
            "_model_module_version": "1.2.0",
            "_view_count": null,
            "flex_flow": null,
            "width": null,
            "min_width": null,
            "border": null,
            "align_items": null,
            "bottom": null,
            "_model_module": "@jupyter-widgets/base",
            "top": null,
            "grid_column": null,
            "overflow_y": null,
            "overflow_x": null,
            "grid_auto_flow": null,
            "grid_area": null,
            "grid_template_columns": null,
            "flex": null,
            "_model_name": "LayoutModel",
            "justify_items": null,
            "grid_row": null,
            "max_height": null,
            "align_content": null,
            "visibility": null,
            "align_self": null,
            "height": null,
            "min_height": null,
            "padding": null,
            "grid_auto_rows": null,
            "grid_gap": null,
            "max_width": null,
            "order": null,
            "_view_module_version": "1.2.0",
            "grid_template_areas": null,
            "object_position": null,
            "object_fit": null,
            "grid_auto_columns": null,
            "margin": null,
            "display": null,
            "left": null
          }
        },
        "76b74e1a1265452aa3f1696577841068": {
          "model_module": "@jupyter-widgets/controls",
          "model_name": "VBoxModel",
          "model_module_version": "1.5.0",
          "state": {
            "_view_name": "VBoxView",
            "_dom_classes": [
              "widget-interact"
            ],
            "_model_name": "VBoxModel",
            "_view_module": "@jupyter-widgets/controls",
            "_model_module_version": "1.5.0",
            "_view_count": null,
            "_view_module_version": "1.5.0",
            "box_style": "",
            "layout": "IPY_MODEL_ca967e20caef4f43a121faa5f01b094e",
            "_model_module": "@jupyter-widgets/controls",
            "children": [
              "IPY_MODEL_b6c8dbe0919b4068a640cdf51dfa3176",
              "IPY_MODEL_fa311c46263146be9fdfee2ebda85276",
              "IPY_MODEL_95b6222013724ed887d4d3e251d4bf7c"
            ]
          }
        },
        "ca967e20caef4f43a121faa5f01b094e": {
          "model_module": "@jupyter-widgets/base",
          "model_name": "LayoutModel",
          "model_module_version": "1.2.0",
          "state": {
            "_view_name": "LayoutView",
            "grid_template_rows": null,
            "right": null,
            "justify_content": null,
            "_view_module": "@jupyter-widgets/base",
            "overflow": null,
            "_model_module_version": "1.2.0",
            "_view_count": null,
            "flex_flow": null,
            "width": null,
            "min_width": null,
            "border": null,
            "align_items": null,
            "bottom": null,
            "_model_module": "@jupyter-widgets/base",
            "top": null,
            "grid_column": null,
            "overflow_y": null,
            "overflow_x": null,
            "grid_auto_flow": null,
            "grid_area": null,
            "grid_template_columns": null,
            "flex": null,
            "_model_name": "LayoutModel",
            "justify_items": null,
            "grid_row": null,
            "max_height": null,
            "align_content": null,
            "visibility": null,
            "align_self": null,
            "height": null,
            "min_height": null,
            "padding": null,
            "grid_auto_rows": null,
            "grid_gap": null,
            "max_width": null,
            "order": null,
            "_view_module_version": "1.2.0",
            "grid_template_areas": null,
            "object_position": null,
            "object_fit": null,
            "grid_auto_columns": null,
            "margin": null,
            "display": null,
            "left": null
          }
        },
        "b6c8dbe0919b4068a640cdf51dfa3176": {
          "model_module": "@jupyter-widgets/controls",
          "model_name": "IntTextModel",
          "model_module_version": "1.5.0",
          "state": {
            "_view_name": "IntTextView",
            "style": "IPY_MODEL_f7340219226a496abcb1750a1a8b08d5",
            "_dom_classes": [],
            "description": "Altura neta (m): ",
            "_model_name": "IntTextModel",
            "_view_module": "@jupyter-widgets/controls",
            "_model_module_version": "1.5.0",
            "value": 10,
            "_view_count": null,
            "disabled": false,
            "_view_module_version": "1.5.0",
            "continuous_update": false,
            "step": 10,
            "description_tooltip": null,
            "_model_module": "@jupyter-widgets/controls",
            "layout": "IPY_MODEL_c1cc5535bd4442409035dab628bc5e53"
          }
        },
        "fa311c46263146be9fdfee2ebda85276": {
          "model_module": "@jupyter-widgets/controls",
          "model_name": "FloatSliderModel",
          "model_module_version": "1.5.0",
          "state": {
            "_view_name": "FloatSliderView",
            "style": "IPY_MODEL_d19f1f3c41b647fba4ffe5ba0fe7bfd5",
            "_dom_classes": [],
            "description": "Caudal (cm): ",
            "step": 10,
            "_model_name": "FloatSliderModel",
            "orientation": "horizontal",
            "max": 500,
            "_view_module": "@jupyter-widgets/controls",
            "_model_module_version": "1.5.0",
            "value": 230.001,
            "_view_count": null,
            "disabled": false,
            "_view_module_version": "1.5.0",
            "min": 0.001,
            "continuous_update": true,
            "readout_format": ".2f",
            "description_tooltip": null,
            "readout": true,
            "_model_module": "@jupyter-widgets/controls",
            "layout": "IPY_MODEL_efb0eb56028d458992c77852d212a406"
          }
        },
        "95b6222013724ed887d4d3e251d4bf7c": {
          "model_module": "@jupyter-widgets/output",
          "model_name": "OutputModel",
          "model_module_version": "1.0.0",
          "state": {
            "_view_name": "OutputView",
            "msg_id": "",
            "_dom_classes": [],
            "_model_name": "OutputModel",
            "outputs": [
              {
                "output_type": "stream",
                "metadata": {
                  "tags": []
                },
                "text": "\n\nPérdida hidráulica:  7.76 m\nDiámetro externo:  17.08 cm\nVelocidad angular:  2466.9 rpm\nPotencia útil:  29007.46 W\nRendimiento total:  21.34 %\n",
                "stream": "stdout"
              }
            ],
            "_view_module": "@jupyter-widgets/output",
            "_model_module_version": "1.0.0",
            "_view_count": null,
            "_view_module_version": "1.0.0",
            "layout": "IPY_MODEL_4034ce78360a4532a8097b083c671e9c",
            "_model_module": "@jupyter-widgets/output"
          }
        },
        "f7340219226a496abcb1750a1a8b08d5": {
          "model_module": "@jupyter-widgets/controls",
          "model_name": "DescriptionStyleModel",
          "model_module_version": "1.5.0",
          "state": {
            "_view_name": "StyleView",
            "_model_name": "DescriptionStyleModel",
            "description_width": "",
            "_view_module": "@jupyter-widgets/base",
            "_model_module_version": "1.5.0",
            "_view_count": null,
            "_view_module_version": "1.2.0",
            "_model_module": "@jupyter-widgets/controls"
          }
        },
        "c1cc5535bd4442409035dab628bc5e53": {
          "model_module": "@jupyter-widgets/base",
          "model_name": "LayoutModel",
          "model_module_version": "1.2.0",
          "state": {
            "_view_name": "LayoutView",
            "grid_template_rows": null,
            "right": null,
            "justify_content": null,
            "_view_module": "@jupyter-widgets/base",
            "overflow": null,
            "_model_module_version": "1.2.0",
            "_view_count": null,
            "flex_flow": null,
            "width": null,
            "min_width": null,
            "border": null,
            "align_items": null,
            "bottom": null,
            "_model_module": "@jupyter-widgets/base",
            "top": null,
            "grid_column": null,
            "overflow_y": null,
            "overflow_x": null,
            "grid_auto_flow": null,
            "grid_area": null,
            "grid_template_columns": null,
            "flex": null,
            "_model_name": "LayoutModel",
            "justify_items": null,
            "grid_row": null,
            "max_height": null,
            "align_content": null,
            "visibility": null,
            "align_self": null,
            "height": null,
            "min_height": null,
            "padding": null,
            "grid_auto_rows": null,
            "grid_gap": null,
            "max_width": null,
            "order": null,
            "_view_module_version": "1.2.0",
            "grid_template_areas": null,
            "object_position": null,
            "object_fit": null,
            "grid_auto_columns": null,
            "margin": null,
            "display": null,
            "left": null
          }
        },
        "d19f1f3c41b647fba4ffe5ba0fe7bfd5": {
          "model_module": "@jupyter-widgets/controls",
          "model_name": "SliderStyleModel",
          "model_module_version": "1.5.0",
          "state": {
            "_view_name": "StyleView",
            "handle_color": null,
            "_model_name": "SliderStyleModel",
            "description_width": "",
            "_view_module": "@jupyter-widgets/base",
            "_model_module_version": "1.5.0",
            "_view_count": null,
            "_view_module_version": "1.2.0",
            "_model_module": "@jupyter-widgets/controls"
          }
        },
        "efb0eb56028d458992c77852d212a406": {
          "model_module": "@jupyter-widgets/base",
          "model_name": "LayoutModel",
          "model_module_version": "1.2.0",
          "state": {
            "_view_name": "LayoutView",
            "grid_template_rows": null,
            "right": null,
            "justify_content": null,
            "_view_module": "@jupyter-widgets/base",
            "overflow": null,
            "_model_module_version": "1.2.0",
            "_view_count": null,
            "flex_flow": null,
            "width": null,
            "min_width": null,
            "border": null,
            "align_items": null,
            "bottom": null,
            "_model_module": "@jupyter-widgets/base",
            "top": null,
            "grid_column": null,
            "overflow_y": null,
            "overflow_x": null,
            "grid_auto_flow": null,
            "grid_area": null,
            "grid_template_columns": null,
            "flex": null,
            "_model_name": "LayoutModel",
            "justify_items": null,
            "grid_row": null,
            "max_height": null,
            "align_content": null,
            "visibility": null,
            "align_self": null,
            "height": null,
            "min_height": null,
            "padding": null,
            "grid_auto_rows": null,
            "grid_gap": null,
            "max_width": null,
            "order": null,
            "_view_module_version": "1.2.0",
            "grid_template_areas": null,
            "object_position": null,
            "object_fit": null,
            "grid_auto_columns": null,
            "margin": null,
            "display": null,
            "left": null
          }
        },
        "4034ce78360a4532a8097b083c671e9c": {
          "model_module": "@jupyter-widgets/base",
          "model_name": "LayoutModel",
          "model_module_version": "1.2.0",
          "state": {
            "_view_name": "LayoutView",
            "grid_template_rows": null,
            "right": null,
            "justify_content": null,
            "_view_module": "@jupyter-widgets/base",
            "overflow": null,
            "_model_module_version": "1.2.0",
            "_view_count": null,
            "flex_flow": null,
            "width": null,
            "min_width": null,
            "border": null,
            "align_items": null,
            "bottom": null,
            "_model_module": "@jupyter-widgets/base",
            "top": null,
            "grid_column": null,
            "overflow_y": null,
            "overflow_x": null,
            "grid_auto_flow": null,
            "grid_area": null,
            "grid_template_columns": null,
            "flex": null,
            "_model_name": "LayoutModel",
            "justify_items": null,
            "grid_row": null,
            "max_height": null,
            "align_content": null,
            "visibility": null,
            "align_self": null,
            "height": null,
            "min_height": null,
            "padding": null,
            "grid_auto_rows": null,
            "grid_gap": null,
            "max_width": null,
            "order": null,
            "_view_module_version": "1.2.0",
            "grid_template_areas": null,
            "object_position": null,
            "object_fit": null,
            "grid_auto_columns": null,
            "margin": null,
            "display": null,
            "left": null
          }
        },
        "f95767857ade4fb89182300494b05c13": {
          "model_module": "@jupyter-widgets/controls",
          "model_name": "VBoxModel",
          "model_module_version": "1.5.0",
          "state": {
            "_view_name": "VBoxView",
            "_dom_classes": [
              "widget-interact"
            ],
            "_model_name": "VBoxModel",
            "_view_module": "@jupyter-widgets/controls",
            "_model_module_version": "1.5.0",
            "_view_count": null,
            "_view_module_version": "1.5.0",
            "box_style": "",
            "layout": "IPY_MODEL_7027330e3413405cbc240399cc7c0f41",
            "_model_module": "@jupyter-widgets/controls",
            "children": [
              "IPY_MODEL_76d02e6aa56f4c12909af57a1f00b1df",
              "IPY_MODEL_4043ed691e67466ca84d0872a288b154"
            ]
          }
        },
        "7027330e3413405cbc240399cc7c0f41": {
          "model_module": "@jupyter-widgets/base",
          "model_name": "LayoutModel",
          "model_module_version": "1.2.0",
          "state": {
            "_view_name": "LayoutView",
            "grid_template_rows": null,
            "right": null,
            "justify_content": null,
            "_view_module": "@jupyter-widgets/base",
            "overflow": null,
            "_model_module_version": "1.2.0",
            "_view_count": null,
            "flex_flow": null,
            "width": null,
            "min_width": null,
            "border": null,
            "align_items": null,
            "bottom": null,
            "_model_module": "@jupyter-widgets/base",
            "top": null,
            "grid_column": null,
            "overflow_y": null,
            "overflow_x": null,
            "grid_auto_flow": null,
            "grid_area": null,
            "grid_template_columns": null,
            "flex": null,
            "_model_name": "LayoutModel",
            "justify_items": null,
            "grid_row": null,
            "max_height": null,
            "align_content": null,
            "visibility": null,
            "align_self": null,
            "height": null,
            "min_height": null,
            "padding": null,
            "grid_auto_rows": null,
            "grid_gap": null,
            "max_width": null,
            "order": null,
            "_view_module_version": "1.2.0",
            "grid_template_areas": null,
            "object_position": null,
            "object_fit": null,
            "grid_auto_columns": null,
            "margin": null,
            "display": null,
            "left": null
          }
        },
        "76d02e6aa56f4c12909af57a1f00b1df": {
          "model_module": "@jupyter-widgets/controls",
          "model_name": "DropdownModel",
          "model_module_version": "1.5.0",
          "state": {
            "_options_labels": [
              "Pelton",
              "Francis",
              "Kaplan"
            ],
            "_view_name": "DropdownView",
            "style": "IPY_MODEL_1476230b35794ddca472c1ad9638c3fd",
            "_dom_classes": [],
            "description": "Turbina :",
            "_model_name": "DropdownModel",
            "index": 0,
            "_view_module": "@jupyter-widgets/controls",
            "_model_module_version": "1.5.0",
            "_view_count": null,
            "disabled": false,
            "_view_module_version": "1.5.0",
            "description_tooltip": null,
            "_model_module": "@jupyter-widgets/controls",
            "layout": "IPY_MODEL_50a786d5c5594614884fb017fa08b91c"
          }
        },
        "4043ed691e67466ca84d0872a288b154": {
          "model_module": "@jupyter-widgets/output",
          "model_name": "OutputModel",
          "model_module_version": "1.0.0",
          "state": {
            "_view_name": "OutputView",
            "msg_id": "",
            "_dom_classes": [],
            "_model_name": "OutputModel",
            "outputs": [
              {
                "output_type": "display_data",
                "metadata": {
                  "tags": []
                },
                "application/vnd.jupyter.widget-view+json": {
                  "model_id": "d38e05631e7740c6844ccbfffeb63591",
                  "version_minor": 0,
                  "version_major": 2
                },
                "text/plain": "interactive(children=(IntText(value=1, description='Altura neta (m): ', step=10), FloatSlider(value=1.0, descr…"
              }
            ],
            "_view_module": "@jupyter-widgets/output",
            "_model_module_version": "1.0.0",
            "_view_count": null,
            "_view_module_version": "1.0.0",
            "layout": "IPY_MODEL_c2e88ecbcf2d4fadbe5a92cbb10cfbdf",
            "_model_module": "@jupyter-widgets/output"
          }
        },
        "1476230b35794ddca472c1ad9638c3fd": {
          "model_module": "@jupyter-widgets/controls",
          "model_name": "DescriptionStyleModel",
          "model_module_version": "1.5.0",
          "state": {
            "_view_name": "StyleView",
            "_model_name": "DescriptionStyleModel",
            "description_width": "",
            "_view_module": "@jupyter-widgets/base",
            "_model_module_version": "1.5.0",
            "_view_count": null,
            "_view_module_version": "1.2.0",
            "_model_module": "@jupyter-widgets/controls"
          }
        },
        "50a786d5c5594614884fb017fa08b91c": {
          "model_module": "@jupyter-widgets/base",
          "model_name": "LayoutModel",
          "model_module_version": "1.2.0",
          "state": {
            "_view_name": "LayoutView",
            "grid_template_rows": null,
            "right": null,
            "justify_content": null,
            "_view_module": "@jupyter-widgets/base",
            "overflow": null,
            "_model_module_version": "1.2.0",
            "_view_count": null,
            "flex_flow": null,
            "width": null,
            "min_width": null,
            "border": null,
            "align_items": null,
            "bottom": null,
            "_model_module": "@jupyter-widgets/base",
            "top": null,
            "grid_column": null,
            "overflow_y": null,
            "overflow_x": null,
            "grid_auto_flow": null,
            "grid_area": null,
            "grid_template_columns": null,
            "flex": null,
            "_model_name": "LayoutModel",
            "justify_items": null,
            "grid_row": null,
            "max_height": null,
            "align_content": null,
            "visibility": null,
            "align_self": null,
            "height": null,
            "min_height": null,
            "padding": null,
            "grid_auto_rows": null,
            "grid_gap": null,
            "max_width": null,
            "order": null,
            "_view_module_version": "1.2.0",
            "grid_template_areas": null,
            "object_position": null,
            "object_fit": null,
            "grid_auto_columns": null,
            "margin": null,
            "display": null,
            "left": null
          }
        },
        "c2e88ecbcf2d4fadbe5a92cbb10cfbdf": {
          "model_module": "@jupyter-widgets/base",
          "model_name": "LayoutModel",
          "model_module_version": "1.2.0",
          "state": {
            "_view_name": "LayoutView",
            "grid_template_rows": null,
            "right": null,
            "justify_content": null,
            "_view_module": "@jupyter-widgets/base",
            "overflow": null,
            "_model_module_version": "1.2.0",
            "_view_count": null,
            "flex_flow": null,
            "width": null,
            "min_width": null,
            "border": null,
            "align_items": null,
            "bottom": null,
            "_model_module": "@jupyter-widgets/base",
            "top": null,
            "grid_column": null,
            "overflow_y": null,
            "overflow_x": null,
            "grid_auto_flow": null,
            "grid_area": null,
            "grid_template_columns": null,
            "flex": null,
            "_model_name": "LayoutModel",
            "justify_items": null,
            "grid_row": null,
            "max_height": null,
            "align_content": null,
            "visibility": null,
            "align_self": null,
            "height": null,
            "min_height": null,
            "padding": null,
            "grid_auto_rows": null,
            "grid_gap": null,
            "max_width": null,
            "order": null,
            "_view_module_version": "1.2.0",
            "grid_template_areas": null,
            "object_position": null,
            "object_fit": null,
            "grid_auto_columns": null,
            "margin": null,
            "display": null,
            "left": null
          }
        },
        "d38e05631e7740c6844ccbfffeb63591": {
          "model_module": "@jupyter-widgets/controls",
          "model_name": "VBoxModel",
          "model_module_version": "1.5.0",
          "state": {
            "_view_name": "VBoxView",
            "_dom_classes": [
              "widget-interact"
            ],
            "_model_name": "VBoxModel",
            "_view_module": "@jupyter-widgets/controls",
            "_model_module_version": "1.5.0",
            "_view_count": null,
            "_view_module_version": "1.5.0",
            "box_style": "",
            "layout": "IPY_MODEL_5956873023fd4d09a31617e33f1e0b1a",
            "_model_module": "@jupyter-widgets/controls",
            "children": [
              "IPY_MODEL_225ec0c70adf4e16b7a4387792540d72",
              "IPY_MODEL_54fd528c6b1348dd90a1bd40a6e93f4d",
              "IPY_MODEL_c6649351ffd54ff8ac649e0a60633d67"
            ]
          }
        },
        "5956873023fd4d09a31617e33f1e0b1a": {
          "model_module": "@jupyter-widgets/base",
          "model_name": "LayoutModel",
          "model_module_version": "1.2.0",
          "state": {
            "_view_name": "LayoutView",
            "grid_template_rows": null,
            "right": null,
            "justify_content": null,
            "_view_module": "@jupyter-widgets/base",
            "overflow": null,
            "_model_module_version": "1.2.0",
            "_view_count": null,
            "flex_flow": null,
            "width": null,
            "min_width": null,
            "border": null,
            "align_items": null,
            "bottom": null,
            "_model_module": "@jupyter-widgets/base",
            "top": null,
            "grid_column": null,
            "overflow_y": null,
            "overflow_x": null,
            "grid_auto_flow": null,
            "grid_area": null,
            "grid_template_columns": null,
            "flex": null,
            "_model_name": "LayoutModel",
            "justify_items": null,
            "grid_row": null,
            "max_height": null,
            "align_content": null,
            "visibility": null,
            "align_self": null,
            "height": null,
            "min_height": null,
            "padding": null,
            "grid_auto_rows": null,
            "grid_gap": null,
            "max_width": null,
            "order": null,
            "_view_module_version": "1.2.0",
            "grid_template_areas": null,
            "object_position": null,
            "object_fit": null,
            "grid_auto_columns": null,
            "margin": null,
            "display": null,
            "left": null
          }
        },
        "225ec0c70adf4e16b7a4387792540d72": {
          "model_module": "@jupyter-widgets/controls",
          "model_name": "IntTextModel",
          "model_module_version": "1.5.0",
          "state": {
            "_view_name": "IntTextView",
            "style": "IPY_MODEL_4f3bcc32e4304aa5abaca08fc921954d",
            "_dom_classes": [],
            "description": "Altura neta (m): ",
            "_model_name": "IntTextModel",
            "_view_module": "@jupyter-widgets/controls",
            "_model_module_version": "1.5.0",
            "value": 1,
            "_view_count": null,
            "disabled": false,
            "_view_module_version": "1.5.0",
            "continuous_update": false,
            "step": 10,
            "description_tooltip": null,
            "_model_module": "@jupyter-widgets/controls",
            "layout": "IPY_MODEL_64b9a26a54c64fbd9ea5d75d8131c159"
          }
        },
        "54fd528c6b1348dd90a1bd40a6e93f4d": {
          "model_module": "@jupyter-widgets/controls",
          "model_name": "FloatSliderModel",
          "model_module_version": "1.5.0",
          "state": {
            "_view_name": "FloatSliderView",
            "style": "IPY_MODEL_895eb96342c949468f3f438d0eff7843",
            "_dom_classes": [],
            "description": "Caudal: ",
            "step": 1,
            "_model_name": "FloatSliderModel",
            "orientation": "horizontal",
            "max": 30000,
            "_view_module": "@jupyter-widgets/controls",
            "_model_module_version": "1.5.0",
            "value": 1,
            "_view_count": null,
            "disabled": false,
            "_view_module_version": "1.5.0",
            "min": 1,
            "continuous_update": true,
            "readout_format": ".2f",
            "description_tooltip": null,
            "readout": true,
            "_model_module": "@jupyter-widgets/controls",
            "layout": "IPY_MODEL_dd22085f1ed24f319cea1b82fded737f"
          }
        },
        "c6649351ffd54ff8ac649e0a60633d67": {
          "model_module": "@jupyter-widgets/output",
          "model_name": "OutputModel",
          "model_module_version": "1.0.0",
          "state": {
            "_view_name": "OutputView",
            "msg_id": "",
            "_dom_classes": [],
            "_model_name": "OutputModel",
            "outputs": [
              {
                "output_type": "stream",
                "metadata": {
                  "tags": []
                },
                "text": "\n\nPérdidas hidráulicas:  0.17 m\nDiámetro del inyector:  1.72 cm\nDiámetro de la turbina:  18.94 cm\nVelocidad angular:  238.28 rpm\nPotencia:  8.14 W\nRendimiento total:  80.52 %\n",
                "stream": "stdout"
              }
            ],
            "_view_module": "@jupyter-widgets/output",
            "_model_module_version": "1.0.0",
            "_view_count": null,
            "_view_module_version": "1.0.0",
            "layout": "IPY_MODEL_9115539552d34384bc770311472b6c1c",
            "_model_module": "@jupyter-widgets/output"
          }
        },
        "4f3bcc32e4304aa5abaca08fc921954d": {
          "model_module": "@jupyter-widgets/controls",
          "model_name": "DescriptionStyleModel",
          "model_module_version": "1.5.0",
          "state": {
            "_view_name": "StyleView",
            "_model_name": "DescriptionStyleModel",
            "description_width": "",
            "_view_module": "@jupyter-widgets/base",
            "_model_module_version": "1.5.0",
            "_view_count": null,
            "_view_module_version": "1.2.0",
            "_model_module": "@jupyter-widgets/controls"
          }
        },
        "64b9a26a54c64fbd9ea5d75d8131c159": {
          "model_module": "@jupyter-widgets/base",
          "model_name": "LayoutModel",
          "model_module_version": "1.2.0",
          "state": {
            "_view_name": "LayoutView",
            "grid_template_rows": null,
            "right": null,
            "justify_content": null,
            "_view_module": "@jupyter-widgets/base",
            "overflow": null,
            "_model_module_version": "1.2.0",
            "_view_count": null,
            "flex_flow": null,
            "width": null,
            "min_width": null,
            "border": null,
            "align_items": null,
            "bottom": null,
            "_model_module": "@jupyter-widgets/base",
            "top": null,
            "grid_column": null,
            "overflow_y": null,
            "overflow_x": null,
            "grid_auto_flow": null,
            "grid_area": null,
            "grid_template_columns": null,
            "flex": null,
            "_model_name": "LayoutModel",
            "justify_items": null,
            "grid_row": null,
            "max_height": null,
            "align_content": null,
            "visibility": null,
            "align_self": null,
            "height": null,
            "min_height": null,
            "padding": null,
            "grid_auto_rows": null,
            "grid_gap": null,
            "max_width": null,
            "order": null,
            "_view_module_version": "1.2.0",
            "grid_template_areas": null,
            "object_position": null,
            "object_fit": null,
            "grid_auto_columns": null,
            "margin": null,
            "display": null,
            "left": null
          }
        },
        "895eb96342c949468f3f438d0eff7843": {
          "model_module": "@jupyter-widgets/controls",
          "model_name": "SliderStyleModel",
          "model_module_version": "1.5.0",
          "state": {
            "_view_name": "StyleView",
            "handle_color": null,
            "_model_name": "SliderStyleModel",
            "description_width": "",
            "_view_module": "@jupyter-widgets/base",
            "_model_module_version": "1.5.0",
            "_view_count": null,
            "_view_module_version": "1.2.0",
            "_model_module": "@jupyter-widgets/controls"
          }
        },
        "dd22085f1ed24f319cea1b82fded737f": {
          "model_module": "@jupyter-widgets/base",
          "model_name": "LayoutModel",
          "model_module_version": "1.2.0",
          "state": {
            "_view_name": "LayoutView",
            "grid_template_rows": null,
            "right": null,
            "justify_content": null,
            "_view_module": "@jupyter-widgets/base",
            "overflow": null,
            "_model_module_version": "1.2.0",
            "_view_count": null,
            "flex_flow": null,
            "width": null,
            "min_width": null,
            "border": null,
            "align_items": null,
            "bottom": null,
            "_model_module": "@jupyter-widgets/base",
            "top": null,
            "grid_column": null,
            "overflow_y": null,
            "overflow_x": null,
            "grid_auto_flow": null,
            "grid_area": null,
            "grid_template_columns": null,
            "flex": null,
            "_model_name": "LayoutModel",
            "justify_items": null,
            "grid_row": null,
            "max_height": null,
            "align_content": null,
            "visibility": null,
            "align_self": null,
            "height": null,
            "min_height": null,
            "padding": null,
            "grid_auto_rows": null,
            "grid_gap": null,
            "max_width": null,
            "order": null,
            "_view_module_version": "1.2.0",
            "grid_template_areas": null,
            "object_position": null,
            "object_fit": null,
            "grid_auto_columns": null,
            "margin": null,
            "display": null,
            "left": null
          }
        },
        "9115539552d34384bc770311472b6c1c": {
          "model_module": "@jupyter-widgets/base",
          "model_name": "LayoutModel",
          "model_module_version": "1.2.0",
          "state": {
            "_view_name": "LayoutView",
            "grid_template_rows": null,
            "right": null,
            "justify_content": null,
            "_view_module": "@jupyter-widgets/base",
            "overflow": null,
            "_model_module_version": "1.2.0",
            "_view_count": null,
            "flex_flow": null,
            "width": null,
            "min_width": null,
            "border": null,
            "align_items": null,
            "bottom": null,
            "_model_module": "@jupyter-widgets/base",
            "top": null,
            "grid_column": null,
            "overflow_y": null,
            "overflow_x": null,
            "grid_auto_flow": null,
            "grid_area": null,
            "grid_template_columns": null,
            "flex": null,
            "_model_name": "LayoutModel",
            "justify_items": null,
            "grid_row": null,
            "max_height": null,
            "align_content": null,
            "visibility": null,
            "align_self": null,
            "height": null,
            "min_height": null,
            "padding": null,
            "grid_auto_rows": null,
            "grid_gap": null,
            "max_width": null,
            "order": null,
            "_view_module_version": "1.2.0",
            "grid_template_areas": null,
            "object_position": null,
            "object_fit": null,
            "grid_auto_columns": null,
            "margin": null,
            "display": null,
            "left": null
          }
        }
      }
    }
  },
  "cells": [
    {
      "cell_type": "code",
      "metadata": {
        "id": "WJNqRJ-37llY"
      },
      "source": [
        "# Paquetes\n",
        "\n",
        "import numpy as np\n",
        "import sympy as spp\n",
        "import matplotlib.pyplot as plt\n",
        "from sklearn.linear_model import LinearRegression\n",
        "from sklearn import linear_model\n",
        "from sklearn.preprocessing import PolynomialFeatures\n",
        "from scipy.optimize import curve_fit\n",
        "from ipywidgets import interact, widgets\n",
        "from IPython.display import display, Markdown\n",
        "spp.init_printing(use_latex='mathjax')\n",
        "plt.rcParams['mathtext.fontset'] = 'stix'"
      ],
      "execution_count": null,
      "outputs": []
    },
    {
      "cell_type": "markdown",
      "metadata": {
        "id": "aueuRbcvydEy"
      },
      "source": [
        "# ***Turbina Pelton***"
      ]
    },
    {
      "cell_type": "markdown",
      "metadata": {
        "id": "HumllXbs_RuF"
      },
      "source": [
        "### *Particular*"
      ]
    },
    {
      "cell_type": "code",
      "metadata": {
        "id": "V7Su3_jG_UPy",
        "colab": {
          "base_uri": "https://localhost:8080/",
          "height": 262,
          "referenced_widgets": [
            "e5e00b2abb5748c59b56ffddec569f48",
            "cecba6266c1741ea985038913666431b",
            "80d096be864c44399e480093a0746312",
            "170608bba7134ca3bbb613c78f68e04b",
            "4a8ed04c35094809a3c20b96931e0e08",
            "be502231e27a4f2f90aac12e33fc849f",
            "e5c9764d27444f3bb217ebb94b9add65",
            "8524e1dc0fcf4719a11d9bc78eab3fa2",
            "08ceb8499746496fb7bd50796a440517",
            "c4148295b0cf4486a15cc3547a0f64a8",
            "5c053c8f75d1488bb0bdf080beab3108",
            "6aae4e145c5d4ace94d7c73228dbe991",
            "29d219465f2040b1a4e742ddb6bf1901",
            "b5ddc688e7c14149ae143ebd7505a31d",
            "556000fd69af46e5b224987226eb3913",
            "dfb8dbfce4d24ffab469db52e6df8324"
          ]
        },
        "outputId": "38abafa3-2878-487a-e79b-50e7fe94c858"
      },
      "source": [
        "def prop(alt_neta,Dt,di,i):\n",
        "  di=di/100; d = np.sqrt(i*(di**2))\n",
        "  C1 = 0.97*np.sqrt(2*9.806*alt_neta); u = C1*0.75\n",
        "  Q = C1*(np.pi*(di**2)/4); Qi = Q/i; W1 = C1-u; W2 = 0.8*W1 \n",
        "  B2 = 12; C2u = u-(W2*np.cos(B2*np.pi/180)); alt_util = u*(C1-C2u)/9.806\n",
        "  nH = alt_util/alt_neta; nt = nH*0.97*100\n",
        "  P = 1000*Q*u*(W1*np.cos(0*np.pi/180)+W2*np.cos(B2*np.pi/180))\n",
        "  n = 60*u/(np.pi*Dt); D = 30*C1/(np.pi*n); print('\\n')\n",
        "\n",
        "  print('Pérdidas hidráulicas: ',round(alt_neta-alt_util,2), 'm')\n",
        "  print('Velocidad angular: ', round(n,2), 'rpm')\n",
        "  print('Caudal: ', round(Q*1000,2), 'L/s')\n",
        "  print('Potencia: ', round(P,2), 'W')\n",
        "  print('Rendimiento total: ', round(nt,2), '%')\n",
        "\n",
        "interact(prop, alt_neta = widgets.IntText(description=\"Altura neta (m): \",value='1',step=10),\n",
        "  Dt = widgets.FloatSlider(description=\"Diámetro de la turbina (m): \",min=0.1,max=1,step=0.01),\n",
        "  di = widgets.FloatSlider(description=\"Diámetro del chorro (cm): \",min=0,max=10,step=0.5),\n",
        "  i = widgets.IntText(description=\"Inyectores: \",value='1',step=1))\n",
        "plt.show()"
      ],
      "execution_count": null,
      "outputs": [
        {
          "output_type": "display_data",
          "data": {
            "application/vnd.jupyter.widget-view+json": {
              "model_id": "e5e00b2abb5748c59b56ffddec569f48",
              "version_minor": 0,
              "version_major": 2
            },
            "text/plain": [
              "interactive(children=(IntText(value=1, description='Altura neta (m): ', step=10), FloatSlider(value=0.1, descr…"
            ]
          },
          "metadata": {
            "tags": []
          }
        }
      ]
    },
    {
      "cell_type": "code",
      "metadata": {
        "id": "Nleo3uPtSgAI",
        "colab": {
          "base_uri": "https://localhost:8080/"
        },
        "outputId": "2574762f-3491-4ef1-dc65-33d16a065f53"
      },
      "source": [
        "#alt_neta=15; Dt=0.25; di=5.5; i=1\n",
        "#alt_neta=28; Dt=0.18; di=2.12; i=4\n",
        "#alt_neta=50; Dt=0.30; di=1.3; i=1\n",
        "alt_neta=120; Q=700; i=3\n",
        "\n",
        "Q=Q/1000; C1 = 0.97*np.sqrt(2*9.807*alt_neta)\n",
        "u = C1*0.5; W1 = C1-u; W2 = 0.8*W1\n",
        "B2 = 12;  C2u = u-(W2*np.cos(B2*np.pi/180))\n",
        "P = -1000*Q*u*(C2u-C1); a1 = np.arccos(2*P/(2*u*Q*1000*C1))\n",
        "di = np.sqrt(4*Q/(C1*np.pi)); alt_util = u*(C1*np.cos(a1*np.pi/180)-C2u)/9.807\n",
        "nH = alt_util/alt_neta; nt = nH*0.97*100\n",
        "Dt = np.sqrt((4*Q/(np.pi*(1-(0.51)**2)*C1))/np.sin(a1*np.pi/180))\n",
        "w = u/(Dt/2); n = w*30/np.pi; print('\\n')\n",
        "print('Pérdidas hidráulicas: ',round(alt_neta-alt_util,2), 'm')\n",
        "print('Diámetro del inyector: ', round(di*100,2), 'cm')\n",
        "print('Diámetro de la turbina: ', round(Dt*100,2), 'cm')\n",
        "print('Velocidad angular: ', round(n,2), 'rpm')\n",
        "print('Potencia: ', round(P/1000,2), 'kW')\n",
        "print('Rendimiento total: ', round(nt,2), '%')"
      ],
      "execution_count": null,
      "outputs": [
        {
          "output_type": "stream",
          "text": [
            "\n",
            "\n",
            "Pérdidas hidráulicas:  19.37 m\n",
            "Diámetro del inyector:  13.76 cm\n",
            "Diámetro de la turbina:  176.52 cm\n",
            "Velocidad angular:  254.58 rpm\n",
            "Potencia:  690.82 kW\n",
            "Rendimiento total:  81.34 %\n"
          ],
          "name": "stdout"
        }
      ]
    },
    {
      "cell_type": "markdown",
      "metadata": {
        "id": "KdyqATjOuQos"
      },
      "source": [
        "## *General*"
      ]
    },
    {
      "cell_type": "markdown",
      "metadata": {
        "id": "50vJCyO--5zk"
      },
      "source": [
        "### Cálculos"
      ]
    },
    {
      "cell_type": "code",
      "metadata": {
        "id": "BjAD6pSL8brT",
        "colab": {
          "base_uri": "https://localhost:8080/"
        },
        "outputId": "12d6a605-6825-47ce-aaf5-45cdf53ca092"
      },
      "source": [
        "print('Datos:'); n=int(input())\n",
        "alt_neta = np.linspace(1*(10**-6),1700,n)\n",
        "#C1 = 0.97*np.sqrt(2*9.806*alt_neta); u = C1*0.5\n",
        "C1 = np.linspace(1*(10**-6),120,n); u = C1*0.5\n",
        "W1 = C1-u; W2 = 0.7*W1; B2 = np.linspace(5,20,n)\n",
        "C2u = u-(W2*np.cos(B2*np.pi/180)); alt_util = u*(C1-C2u)/9.806\n",
        "nH = alt_util/alt_neta; nt = nH*0.97*100\n",
        "d = np.linspace(0.05,2,n); Q = C1*(np.pi*(d**2)/4)\n",
        "F = 1000*Q*(W1*np.cos(0*np.pi/180)+W2*np.cos(B2*np.pi/180))\n",
        "P = (F*u)/1000000"
      ],
      "execution_count": null,
      "outputs": [
        {
          "output_type": "stream",
          "text": [
            "Datos:\n",
            "8\n"
          ],
          "name": "stdout"
        }
      ]
    },
    {
      "cell_type": "markdown",
      "metadata": {
        "id": "VtVcPCr5uDfV"
      },
      "source": [
        "### ***Rendimiento total y Altura neta***"
      ]
    },
    {
      "cell_type": "markdown",
      "metadata": {
        "id": "8h3RFLGOuTWl"
      },
      "source": [
        "#### Ajuste de datos"
      ]
    },
    {
      "cell_type": "code",
      "metadata": {
        "id": "NT3pPYmruV0c"
      },
      "source": [
        "# Ajuste potencial\n",
        "print('Último dato a tomar: '); dat = int(input()); alt_neta0 = alt_neta[:dat]\n",
        "model = LinearRegression()\n",
        "Y = np.log(nt[:dat]); X = np.log(alt_neta0.reshape(-1,1)); model.fit(X,Y)\n",
        "r2 = model.score(X,Y); b = model.intercept_; m = model.coef_[0]\n",
        "r2 = round(r2,5); b = round(b,4); m = round(m,4); a = round(np.exp(b),4)\n",
        "w1 = a*(alt_neta0.reshape(-1,1)**m)\n",
        "\n",
        "# Ajustes de cuadrático\n",
        "reg_poly = PolynomialFeatures(degree=2)\n",
        "alt_neta_ajust = reg_poly.fit_transform(alt_neta.reshape(-1,1))\n",
        "rp = linear_model.LinearRegression(); rp.fit(alt_neta_ajust,nt)\n",
        "nt_ajust = rp.predict(alt_neta_ajust)\n",
        "\n",
        "# Ajustes de los datos - Rendimiento(%) vs Altura neta(m)\n",
        "fig, axes = plt.subplots(2,2, figsize=(13,9))\n",
        "axes[0,0].plot(alt_neta,nt,'r*',alpha=0.65,ms=12)\n",
        "axes[0,0].set_xlabel('Altura neta (m)'); axes[0,0].set_ylabel('Rendimiento total (%)')\n",
        "axes[0,0].set_title('Datos'); axes[0,0].grid()\n",
        "axes[0,1].plot(alt_neta0,w1,'c',lw=3)\n",
        "axes[0,1].plot(alt_neta0,nt[:dat],'r*',alpha=0.7,ms=9.5)\n",
        "axes[0,1].set_xlabel('Altura neta (m)'); axes[0,1].set_ylabel('Rendimiento total (%)')\n",
        "axes[0,1].set_title('Ajuste potencial'); axes[0,1].grid()\n",
        "axes[1,0].plot(alt_neta,nt,'r*',alpha=0.7,ms=9.5)\n",
        "axes[1,0].plot(alt_neta, nt_ajust,'c',lw=3)\n",
        "axes[1,0].set_xlabel('Altura neta (m)'); axes[1,0].set_ylabel('Rendimiento total (%)')\n",
        "axes[1,0].set_title('Ajuste cuadrático'); axes[1,0].grid()\n",
        "alt_neta0 = np.linspace(1500,2000,n); w2 = -1/(alt_neta0-1485)+nt[-1]\n",
        "axes[1,1].plot(alt_neta0,w2,'c',lw=3.5)\n",
        "axes[1,1].plot(alt_neta[-1],nt[-1],'r*',alpha=0.75,ms=12)\n",
        "axes[1,1].set_xlim(1400,2000); #axes[1,0].set_ylim(39.32,39.349); axes[1,0].set_xlim(1400,2000)\n",
        "axes[1,1].set_xlabel('Altura neta (m)'); axes[1,1].set_ylabel('Rendimiento total (%)')\n",
        "axes[1,1].set_title('Ajuste asintótico'); axes[1,1].grid()\n",
        "plt.subplots_adjust(hspace = 0.3, wspace = 0.2); plt.show()\n",
        "\n",
        "print('La ecuación del ajuste potencial es: \\n', 'nt(H) =',a, 'H^',m)\n",
        "print('El coeficiente de correlación es:', r2); print('\\n')\n",
        "print('La ecuación del ajuste cuadrático es: \\n', 'nt(H) =',round(rp.coef_[2],6), 'H^2 +',round(rp.coef_[1],4),'H +','(',round(rp.intercept_,4),')')\n",
        "print('El coeficiente de correlación es:', round(rp.score(alt_neta_ajust,nt),4))"
      ],
      "execution_count": null,
      "outputs": []
    },
    {
      "cell_type": "markdown",
      "metadata": {
        "id": "OZzgcS88ufs9"
      },
      "source": [
        "#### Función a trozos"
      ]
    },
    {
      "cell_type": "code",
      "metadata": {
        "id": "HaI-umDGupN8",
        "colab": {
          "base_uri": "https://localhost:8080/",
          "height": 471
        },
        "outputId": "11ef7a3c-bb29-4aec-c1fc-f624c4866873"
      },
      "source": [
        "potencial = lambda x: a*(x**m)\n",
        "cuadratica = lambda x: rp.coef_[2]*x**2 + rp.coef_[1]*x + rp.intercept_\n",
        "asintotica = lambda x: -1/(x-1485)+nt[-1]\n",
        "dom1 = np.linspace(alt_neta[0],alt_neta[1],2); dom2 = np.linspace(alt_neta[1],alt_neta[-1],len(alt_neta[1:-1])); dom3 = np.linspace(alt_neta[-1],2000,n)\n",
        "plt.figure(figsize=(10,6))\n",
        "plt.plot(dom1,potencial(dom1),'-*',label='Ajuste potencial') \n",
        "plt.plot(dom2,cuadratica(dom2),'-o',label='Ajuste cuadrático')\n",
        "plt.plot(dom3,asintotica(dom3),'-^',label='Ajuste asintótico')\n",
        "plt.xlabel('Altura neta (m)'); plt.ylabel('Rendimiento total (%)')\n",
        "plt.title('Rendimiento de una turbina Pelton con respecto a su altura neta')\n",
        "plt.legend(); plt.grid(); plt.show()\n",
        "print('Rendimiento total(%) a',round(alt_neta[1],1),'m de Altura neta: ','(',round(cuadratica(alt_neta[1]),3),',',round(potencial(alt_neta[1]),3),')')\n",
        "print('Diferencia: ', abs(round(potencial(alt_neta[1])-cuadratica(alt_neta[1]),2)),'%')\n",
        "print('Rendimiento total(%) a',round(alt_neta[-1],1),'m de Altura neta: ','(',round(cuadratica(alt_neta[-1]),3),',',round(asintotica(alt_neta[-1]),3),')')\n",
        "print('Diferencia: ', abs(round(asintotica(alt_neta[-1])-cuadratica(alt_neta[-1]),2)),'%')"
      ],
      "execution_count": null,
      "outputs": [
        {
          "output_type": "display_data",
          "data": {
            "image/png": "[encoded data removed]",
            "text/plain": [
              "<Figure size 720x432 with 1 Axes>"
            ]
          },
          "metadata": {
            "tags": [],
            "needs_background": "light"
          }
        },
        {
          "output_type": "stream",
          "text": [
            "Rendimiento total(%) a 242.9 m de Altura neta:  ( 5.082 , 6.903 )\n",
            "Diferencia:  1.82 %\n",
            "Rendimiento total(%) a 1700.0 m de Altura neta:  ( 34.741 , 34.722 )\n",
            "Diferencia:  0.02 %\n"
          ],
          "name": "stdout"
        }
      ]
    },
    {
      "cell_type": "markdown",
      "metadata": {
        "id": "UeKompjgC48K"
      },
      "source": [
        "#### Derivada"
      ]
    },
    {
      "cell_type": "code",
      "metadata": {
        "id": "8J7KDK_iC8Z7",
        "colab": {
          "base_uri": "https://localhost:8080/",
          "height": 262
        },
        "outputId": "d06d9167-d87b-4fec-cc63-a9d56420ea62"
      },
      "source": [
        "# Derivada - Función a trozos\n",
        "potencial = lambda x: m*a*(x**(m-1))\n",
        "cuadratica = lambda x: 2*rp.coef_[2]*x + rp.coef_[1]\n",
        "asintotica = lambda x: 1/((x-1485)**2)\n",
        "\n",
        "dom1 = np.linspace(alt_neta[0],alt_neta[1],2); dom2 = np.linspace(alt_neta[1],alt_neta[-1],len(alt_neta[1:-1])); dom3 = np.linspace(alt_neta[-1],2000,n)\n",
        "plt.figure(figsize=(10,6))\n",
        "plt.plot(dom1,potencial(dom1),'-*',label='Ajuste potencial') \n",
        "plt.plot(dom2,cuadratica(dom2),'-o',label='Ajuste cuadrático')\n",
        "plt.plot(dom3,asintotica(dom3),'-^',label='Ajuste asintótico')\n",
        "plt.xlabel('Altura neta (m)'); plt.ylabel('Rendimiento total (%)')\n",
        "plt.title('Rendimiento de una turbina Pelton con respecto a su altura neta')\n",
        "plt.legend(); plt.grid(); plt.show()\n",
        "print('Rendimiento total(%) a',round(alt_neta[1],1),'m de Altura neta: ','(',round(cuadratica(alt_neta[1]),3),',',round(potencial(alt_neta[1]),3),')')\n",
        "print('Diferencia: ', abs(round(potencial(alt_neta[1])-cuadratica(alt_neta[1]),2)),'%')\n",
        "print('Rendimiento total(%) a',round(alt_neta[-1],1),'m de Altura neta: ','(',round(cuadratica(alt_neta[-1]),3),',',round(asintotica(alt_neta[-1]),3),')')\n",
        "print('Diferencia: ', abs(round(asintotica(alt_neta[-1])-cuadratica(alt_neta[-1]),2)),'%')"
      ],
      "execution_count": null,
      "outputs": [
        {
          "output_type": "error",
          "ename": "NameError",
          "evalue": "ignored",
          "traceback": [
            "\u001b[0;31m---------------------------------------------------------------------------\u001b[0m",
            "\u001b[0;31mNameError\u001b[0m                                 Traceback (most recent call last)",
            "\u001b[0;32m<ipython-input-2-586e4b716f23>\u001b[0m in \u001b[0;36m<module>\u001b[0;34m()\u001b[0m\n\u001b[1;32m      4\u001b[0m \u001b[0masintotica\u001b[0m \u001b[0;34m=\u001b[0m \u001b[0;32mlambda\u001b[0m \u001b[0mx\u001b[0m\u001b[0;34m:\u001b[0m \u001b[0;36m1\u001b[0m\u001b[0;34m/\u001b[0m\u001b[0;34m(\u001b[0m\u001b[0;34m(\u001b[0m\u001b[0mx\u001b[0m\u001b[0;34m-\u001b[0m\u001b[0;36m1485\u001b[0m\u001b[0;34m)\u001b[0m\u001b[0;34m**\u001b[0m\u001b[0;36m2\u001b[0m\u001b[0;34m)\u001b[0m\u001b[0;34m\u001b[0m\u001b[0;34m\u001b[0m\u001b[0m\n\u001b[1;32m      5\u001b[0m \u001b[0;34m\u001b[0m\u001b[0m\n\u001b[0;32m----> 6\u001b[0;31m \u001b[0mdom1\u001b[0m \u001b[0;34m=\u001b[0m \u001b[0mnp\u001b[0m\u001b[0;34m.\u001b[0m\u001b[0mlinspace\u001b[0m\u001b[0;34m(\u001b[0m\u001b[0malt_neta\u001b[0m\u001b[0;34m[\u001b[0m\u001b[0;36m0\u001b[0m\u001b[0;34m]\u001b[0m\u001b[0;34m,\u001b[0m\u001b[0malt_neta\u001b[0m\u001b[0;34m[\u001b[0m\u001b[0;36m1\u001b[0m\u001b[0;34m]\u001b[0m\u001b[0;34m,\u001b[0m\u001b[0;36m2\u001b[0m\u001b[0;34m)\u001b[0m\u001b[0;34m;\u001b[0m \u001b[0mdom2\u001b[0m \u001b[0;34m=\u001b[0m \u001b[0mnp\u001b[0m\u001b[0;34m.\u001b[0m\u001b[0mlinspace\u001b[0m\u001b[0;34m(\u001b[0m\u001b[0malt_neta\u001b[0m\u001b[0;34m[\u001b[0m\u001b[0;36m1\u001b[0m\u001b[0;34m]\u001b[0m\u001b[0;34m,\u001b[0m\u001b[0malt_neta\u001b[0m\u001b[0;34m[\u001b[0m\u001b[0;34m-\u001b[0m\u001b[0;36m1\u001b[0m\u001b[0;34m]\u001b[0m\u001b[0;34m,\u001b[0m\u001b[0mlen\u001b[0m\u001b[0;34m(\u001b[0m\u001b[0malt_neta\u001b[0m\u001b[0;34m[\u001b[0m\u001b[0;36m1\u001b[0m\u001b[0;34m:\u001b[0m\u001b[0;34m-\u001b[0m\u001b[0;36m1\u001b[0m\u001b[0;34m]\u001b[0m\u001b[0;34m)\u001b[0m\u001b[0;34m)\u001b[0m\u001b[0;34m;\u001b[0m \u001b[0mdom3\u001b[0m \u001b[0;34m=\u001b[0m \u001b[0mnp\u001b[0m\u001b[0;34m.\u001b[0m\u001b[0mlinspace\u001b[0m\u001b[0;34m(\u001b[0m\u001b[0malt_neta\u001b[0m\u001b[0;34m[\u001b[0m\u001b[0;34m-\u001b[0m\u001b[0;36m1\u001b[0m\u001b[0;34m]\u001b[0m\u001b[0;34m,\u001b[0m\u001b[0;36m2000\u001b[0m\u001b[0;34m,\u001b[0m\u001b[0mn\u001b[0m\u001b[0;34m)\u001b[0m\u001b[0;34m\u001b[0m\u001b[0;34m\u001b[0m\u001b[0m\n\u001b[0m\u001b[1;32m      7\u001b[0m \u001b[0mplt\u001b[0m\u001b[0;34m.\u001b[0m\u001b[0mfigure\u001b[0m\u001b[0;34m(\u001b[0m\u001b[0mfigsize\u001b[0m\u001b[0;34m=\u001b[0m\u001b[0;34m(\u001b[0m\u001b[0;36m10\u001b[0m\u001b[0;34m,\u001b[0m\u001b[0;36m6\u001b[0m\u001b[0;34m)\u001b[0m\u001b[0;34m)\u001b[0m\u001b[0;34m\u001b[0m\u001b[0;34m\u001b[0m\u001b[0m\n\u001b[1;32m      8\u001b[0m \u001b[0mplt\u001b[0m\u001b[0;34m.\u001b[0m\u001b[0mplot\u001b[0m\u001b[0;34m(\u001b[0m\u001b[0mdom1\u001b[0m\u001b[0;34m,\u001b[0m\u001b[0mpotencial\u001b[0m\u001b[0;34m(\u001b[0m\u001b[0mdom1\u001b[0m\u001b[0;34m)\u001b[0m\u001b[0;34m,\u001b[0m\u001b[0;34m'-*'\u001b[0m\u001b[0;34m,\u001b[0m\u001b[0mlabel\u001b[0m\u001b[0;34m=\u001b[0m\u001b[0;34m'Ajuste potencial'\u001b[0m\u001b[0;34m)\u001b[0m\u001b[0;34m\u001b[0m\u001b[0;34m\u001b[0m\u001b[0m\n",
            "\u001b[0;31mNameError\u001b[0m: name 'alt_neta' is not defined"
          ]
        }
      ]
    },
    {
      "cell_type": "markdown",
      "metadata": {
        "id": "ON44cg93uutk"
      },
      "source": [
        "### ***Potencia y Altura neta***"
      ]
    },
    {
      "cell_type": "markdown",
      "metadata": {
        "id": "NitrciYUNSO5"
      },
      "source": [
        "#### Ajuste de datos\n"
      ]
    },
    {
      "cell_type": "code",
      "metadata": {
        "id": "kk0iNGoIhTIf",
        "colab": {
          "base_uri": "https://localhost:8080/",
          "height": 735
        },
        "outputId": "e7d02ee7-d0b4-4414-b087-f575f06fb15b"
      },
      "source": [
        "# Ajuste potencial\n",
        "print('Último dato a tomar: '); dat = int(input()); alt_neta0 = alt_neta[:dat]\n",
        "model = LinearRegression()\n",
        "Y1 = np.log(P[:dat]); X1 = np.log(alt_neta0.reshape(-1,1)); model.fit(X1,Y1)\n",
        "r2_ = model.score(X1,Y1); b1 = model.intercept_; m1 = model.coef_[0]\n",
        "r2_ = round(r2_,5); b1 = round(b1,4); m1 = round(m1,4); a1 = round(np.exp(b1),10)\n",
        "w2 = a1*(alt_neta0.reshape(-1,1)**m1)\n",
        "\n",
        "# Ajustes de cuadrático\n",
        "reg_poly = PolynomialFeatures(degree=3)\n",
        "alt_neta_ajust = reg_poly.fit_transform(alt_neta.reshape(-1,1))\n",
        "rp = linear_model.LinearRegression(); rp.fit(alt_neta_ajust,P)\n",
        "P_ajust = rp.predict(alt_neta_ajust)\n",
        "\n",
        "# Ajustes de los datos - Potencia(MW) vs Altura neta(m)\n",
        "fig, axes = plt.subplots(2,2, figsize=(12,9))\n",
        "axes[0,0].plot(alt_neta,P,'H',c='olivedrab',alpha=0.85,ms=12)\n",
        "axes[0,0].set_xlabel('Altura neta (m)'); axes[0,0].set_ylabel('Potencia (MW)')\n",
        "axes[0,0].set_title('Datos'); axes[0,0].grid()\n",
        "axes[0,1].plot(alt_neta[:dat],w2,'darkgoldenrod',lw=3)\n",
        "axes[0,1].plot(alt_neta[:dat],P[:dat],'H',c='olivedrab',alpha=0.8,ms=9.5)\n",
        "axes[0,1].set_xlabel('Altura neta (m)'); axes[0,1].set_ylabel('Potencia (MW)')\n",
        "axes[0,1].set_title('Ajuste potencial'); axes[0,1].grid()\n",
        "axes[1,0].plot(alt_neta,P,'H',c='olivedrab',alpha=0.8,ms=9.5)\n",
        "axes[1,0].plot(alt_neta, P_ajust,'darkgoldenrod',lw=3)\n",
        "axes[1,0].set_xlabel('Altura neta (m)'); axes[1,0].set_ylabel('Potencia (MW)')\n",
        "axes[1,0].set_title('Ajuste cuadrático'); axes[1,0].grid()\n",
        "alt_neta1 = np.linspace(1650,2000,n); w2 = -1/(alt_neta1-1600)+P[-1]\n",
        "axes[1,1].plot(alt_neta1,w2,'darkgoldenrod',lw=3.5)\n",
        "axes[1,1].plot(alt_neta[-1],P[-1],'H',c='olivedrab',alpha=0.85,ms=12)\n",
        "axes[1,1].set_xlabel('Altura neta (m)'); axes[1,1].set_ylabel('Potencia (MW)')\n",
        "axes[1,1].set_title('Ajuste asintótico'); axes[1,1].grid()\n",
        "plt.subplots_adjust(hspace = 0.3, wspace = 0.2); plt.show()\n",
        "\n",
        "print('La ecuación del ajuste potencial es: \\n', 'P(H) =',a1, 'H^',m1)\n",
        "print('El coeficiente de correlación es:', r2_); print('\\n')\n",
        "print('La ecuación del ajuste cuadrático es: \\n', 'P(H) =',round(rp.coef_[3],6), 'H^3 +',round(rp.coef_[2],4),'H^2 +',round(rp.coef_[1],4),'H +','(',round(rp.intercept_,4),')')\n",
        "print('El coeficiente de correlación es:', round(rp.score(alt_neta_ajust,P),4))"
      ],
      "execution_count": null,
      "outputs": [
        {
          "output_type": "stream",
          "text": [
            "Último dato a tomar: \n",
            "8\n"
          ],
          "name": "stdout"
        },
        {
          "output_type": "display_data",
          "data": {
            "image/png": "[encoded data removed]",
            "text/plain": [
              "<Figure size 864x648 with 4 Axes>"
            ]
          },
          "metadata": {
            "tags": [],
            "needs_background": "light"
          }
        },
        {
          "output_type": "stream",
          "text": [
            "La ecuación del ajuste potencial es: \n",
            " P(H) = 2.087e-07 H^ 2.9189\n",
            "El coeficiente de correlación es: 0.99667\n",
            "\n",
            "\n",
            "La ecuación del ajuste cuadrático es: \n",
            " P(H) = 1e-06 H^3 + -0.0017 H^2 + 0.6431 H + ( -25.4256 )\n",
            "El coeficiente de correlación es: 0.998\n"
          ],
          "name": "stdout"
        }
      ]
    },
    {
      "cell_type": "markdown",
      "metadata": {
        "id": "LReJ7kQJZbOD"
      },
      "source": [
        "#### Función a trozos"
      ]
    },
    {
      "cell_type": "code",
      "metadata": {
        "id": "YrXmH9TgZdSp",
        "colab": {
          "base_uri": "https://localhost:8080/"
        },
        "outputId": "f865e2cb-9293-4be0-a9d5-5e08c502e325"
      },
      "source": [
        "# Función a trozos\n",
        "potencial = lambda x: a1*(x**m1)\n",
        "cuadratica = lambda x: rp.coef_[3]*x**3 + rp.coef_[2]*x**2 + rp.coef_[1]*x + rp.intercept_\n",
        "asintotica = lambda x: -1/(x-1600)+P[-1]\n",
        "dom1 = np.linspace(alt_neta[0],alt_neta[1],2); dom2 = np.linspace(alt_neta[1],alt_neta[-1],len(alt_neta[1:-1])); dom3 = np.linspace(alt_neta[-1],2000,n)\n",
        "plt.figure(figsize=(10,6))\n",
        "plt.plot(dom1,potencial(dom1),'-*',label='Ajuste potencial') \n",
        "plt.plot(dom2,cuadratica(dom2),'-o',label='Ajuste cúbico')\n",
        "plt.plot(dom3,asintotica(dom3),'-^',label='Ajuste asintótico')\n",
        "plt.xlabel('Altura neta (m)'); plt.ylabel('Potencia(MW)')\n",
        "plt.title('Potencia de una turbina Pelton con respecto a su Altura neta')\n",
        "plt.legend(); plt.grid(); plt.show()\n",
        "print('Potencia(MW) a',round(alt_neta[1],1),'m de Altura neta: ','(',round(cuadratica(alt_neta[1]),3),',',round(potencial(alt_neta[1]),3),')')\n",
        "print('Diferencia: ', abs(round(potencial(alt_neta[1])-cuadratica(alt_neta[1]),2)),'MW')\n",
        "print('Potencia(MW) a',round(alt_neta[-1],1),'m de Altura neta: ','(',round(cuadratica(alt_neta[-1]),3),',',round(asintotica(alt_neta[-1]),3),')')\n",
        "print('Diferencia: ', abs(round(asintotica(alt_neta[-1])-cuadratica(alt_neta[-1]),2)),'MW')"
      ],
      "execution_count": null,
      "outputs": [
        {
          "output_type": "display_data",
          "data": {
            "image/png": "[encoded data removed]",
            "text/plain": [
              "<Figure size 720x432 with 1 Axes>"
            ]
          },
          "metadata": {
            "tags": [],
            "needs_background": "light"
          }
        },
        {
          "output_type": "stream",
          "text": [
            "Potencia(MW) a 242.9 m de Altura neta:  ( 45.723 , 1.915 )\n",
            "Diferencia:  43.81 MW\n",
            "Potencia(MW) a 1700.0 m de Altura neta:  ( 2222.144 , 2249.883 )\n",
            "Diferencia:  27.74 MW\n"
          ],
          "name": "stdout"
        }
      ]
    },
    {
      "cell_type": "markdown",
      "metadata": {
        "id": "-g071LL4WpuN"
      },
      "source": [
        "#### Derivada"
      ]
    },
    {
      "cell_type": "code",
      "metadata": {
        "id": "t9OiRTwQWp76",
        "colab": {
          "base_uri": "https://localhost:8080/"
        },
        "outputId": "96f8becd-0540-40ef-f62f-0092120d9ef6"
      },
      "source": [
        "# Derivada - Función a trozos\n",
        "potencial = lambda x: m1*a*(x**(m1-1))\n",
        "cuadratica = lambda x: 2*p[0]*x + p[1]\n",
        "asintotica = lambda x: 1/((x-1485)**2)\n",
        "\n",
        "dom1 = np.linspace(alt_neta[0],alt_neta[1],2); dom2 = np.linspace(alt_neta[1],alt_neta[-1],len(alt_neta[1:-1])); dom3 = np.linspace(alt_neta[-1],2000,n)\n",
        "plt.figure(figsize=(10,6))\n",
        "plt.plot(dom1,potencial(dom1),'-*',label='Ajuste potencial') \n",
        "plt.plot(dom2,cuadratica(dom2),'-o',label='Ajuste cuadrático')\n",
        "plt.plot(dom3,asintotica(dom3),'-^',label='Ajuste asintótico')\n",
        "plt.xlabel('Altura neta (m)'); plt.ylabel('Rendimiento total (%)')\n",
        "plt.title('Rendimiento de una turbina Pelton con respecto a su altura neta')\n",
        "plt.legend(); plt.grid(); plt.show()\n",
        "print('Rendimiento total(%) a',round(alt_neta[1],1),'m de Altura neta: ','(',round(cuadratica(alt_neta[1]),3),',',round(potencial(alt_neta[1]),3),')')\n",
        "print('Diferencia: ', abs(round(potencial(alt_neta[1])-cuadratica(alt_neta[1]),2)),'%')\n",
        "print('Rendimiento total(%) a',round(alt_neta[-1],1),'m de Altura neta: ','(',round(cuadratica(alt_neta[-1]),3),',',round(asintotica(alt_neta[-1]),3),')')\n",
        "print('Diferencia: ', abs(round(asintotica(alt_neta[-1])-cuadratica(alt_neta[-1]),2)),'%')"
      ],
      "execution_count": null,
      "outputs": [
        {
          "output_type": "display_data",
          "data": {
            "image/png": "[encoded data removed]",
            "text/plain": [
              "<Figure size 720x432 with 1 Axes>"
            ]
          },
          "metadata": {
            "tags": [],
            "needs_background": "light"
          }
        },
        {
          "output_type": "stream",
          "text": [
            "Rendimiento total(%) a 242.9 m de Altura neta:  ( 0.021 , 12857.827 )\n",
            "Diferencia:  12857.81 %\n",
            "Rendimiento total(%) a 1700.0 m de Altura neta:  ( 0.02 , 0.0 )\n",
            "Diferencia:  0.02 %\n"
          ],
          "name": "stdout"
        }
      ]
    },
    {
      "cell_type": "markdown",
      "metadata": {
        "id": "PAyucX88peRr"
      },
      "source": [
        "### ***Diámetro del chorro a la entrada del alabe y Caudal***"
      ]
    },
    {
      "cell_type": "markdown",
      "metadata": {
        "id": "yeM9kMCir_3R"
      },
      "source": [
        "#### Ajuste de datos"
      ]
    },
    {
      "cell_type": "code",
      "metadata": {
        "id": "y56fNYi8p8cu",
        "colab": {
          "base_uri": "https://localhost:8080/",
          "height": 365
        },
        "outputId": "77eb7986-16be-4e73-d0a4-17658d0fbe2e"
      },
      "source": [
        "# Ajustes de cuadrático\n",
        "reg_poly = PolynomialFeatures(degree=3)\n",
        "d_ajust = reg_poly.fit_transform(d.reshape(-1,1))\n",
        "rp = linear_model.LinearRegression(); rp.fit(d_ajust,Q)\n",
        "Q_ajust = rp.predict(d_ajust)\n",
        "\n",
        "# Ajustes de los datos - Potencia(MW) vs Altura neta(m)\n",
        "fig, axes = plt.subplots(nrows=1,ncols=3,figsize=(17.5,4))\n",
        "axes[0].plot(d,Q,'d',c='darkcyan',alpha=0.65,ms=10)\n",
        "axes[0].set_xlabel('Diámetro del chorro (m)'); axes[0].set_ylabel(r'Caudal $(m^3)$')\n",
        "axes[0].set_title('Datos'); axes[0].grid()\n",
        "axes[1].plot(d,Q,'d',c='darkcyan',alpha=0.7,ms=9)\n",
        "axes[1].plot(d, Q_ajust,'peru',lw=3,ms=12)\n",
        "axes[1].set_xlabel('Diámetro del chorro (m)'); axes[1].set_ylabel(r'Caudal $(m^3)$')\n",
        "axes[1].set_title('Ajuste cuadrático'); axes[1].grid()\n",
        "d1 = np.linspace(1.81,2.2,n); w2 = -1/(d1-1.8)+Q[-1]\n",
        "axes[2].plot(d1,w2,'peru',lw=3.5)\n",
        "axes[2].plot(d[-1],Q[-1],'d',c='darkcyan',alpha=0.75,ms=10)\n",
        "axes[2].set_xlabel('Diámetro del chorro (m)'); axes[2].set_ylabel(r'Caudal $(m^3)$')\n",
        "axes[2].set_title('Ajuste asintótico'); axes[2].grid(); plt.show()\n",
        "\n",
        "print('\\n','La ecuación del ajuste cuadrático es: \\n', 'Q(H) =',round(rp.coef_[3],6), 'd^3 +',round(rp.coef_[2],4),'d^2 +',round(rp.coef_[1],7),'d +','(',round(rp.intercept_,10),')')\n",
        "print('El coeficiente de correlación es:', round(rp.score(d_ajust,Q),4))"
      ],
      "execution_count": null,
      "outputs": [
        {
          "output_type": "display_data",
          "data": {
            "image/png": "[encoded data removed]",
            "text/plain": [
              "<Figure size 1260x288 with 3 Axes>"
            ]
          },
          "metadata": {
            "tags": [],
            "needs_background": "light"
          }
        },
        {
          "output_type": "stream",
          "text": [
            "\n",
            " La ecuación del ajuste cuadrático es: \n",
            " Q(H) = 48.332194 d^3 + -2.4166 d^2 + -0.0 d + ( -0.0 )\n",
            "El coeficiente de correlación es: 1.0\n"
          ],
          "name": "stdout"
        }
      ]
    },
    {
      "cell_type": "markdown",
      "metadata": {
        "id": "lTuLMQZZ0BxT"
      },
      "source": [
        "#### Función a trozos"
      ]
    },
    {
      "cell_type": "code",
      "metadata": {
        "id": "e2JpLKCz0DJq",
        "colab": {
          "base_uri": "https://localhost:8080/",
          "height": 385
        },
        "outputId": "00093f2b-7dc7-47c7-b24f-cb8a404f9bfe"
      },
      "source": [
        "# Función a trozos\n",
        "cuadratica = lambda x: rp.coef_[3]*x**3 + rp.coef_[2]*x**2 + rp.coef_[1]*x + rp.intercept_\n",
        "asintotica = lambda x: -1/(x-1.8)+Q[-1]\n",
        "dom2 = np.linspace(d[0],d[-1],len(alt_neta)); dom3 = np.linspace(d[-1],2.3,n)\n",
        "plt.figure(figsize=(10,5))\n",
        "plt.plot(dom2,cuadratica(dom2),'-o',label='Ajuste cuadrático')\n",
        "plt.plot(dom3,asintotica(dom3),'-^',label='Ajuste asintótico')\n",
        "plt.xlabel('Diámetro del chorro (m)'); plt.ylabel('Caudal (Q)')\n",
        "plt.title('Caudal de una turbina Pelton con respecto a su Diámetro del chorro')\n",
        "plt.legend(); plt.grid(); plt.show()\n",
        "\n",
        "print('Caudal con',d[-1],'m de diámetro: ','(',round(cuadratica(d[-1]),3),',',round(asintotica(d[-1]),3),')')\n",
        "print('Diferencia: ', abs(round(asintotica(d[-1])-cuadratica(d[-1]),2)),'m^3')"
      ],
      "execution_count": null,
      "outputs": [
        {
          "output_type": "display_data",
          "data": {
            "image/png": "[encoded data removed]",
            "text/plain": [
              "<Figure size 720x360 with 1 Axes>"
            ]
          },
          "metadata": {
            "tags": [],
            "needs_background": "light"
          }
        },
        {
          "output_type": "stream",
          "text": [
            "Caudal con 2.0 m de diámetro:  ( 376.991 , 371.991 )\n",
            "Diferencia:  5.0 m^3\n"
          ],
          "name": "stdout"
        }
      ]
    },
    {
      "cell_type": "markdown",
      "metadata": {
        "id": "oGeH9doR10Mf"
      },
      "source": [
        "#### Derivada"
      ]
    },
    {
      "cell_type": "code",
      "metadata": {
        "id": "xKzxWqLG13BM",
        "colab": {
          "base_uri": "https://localhost:8080/"
        },
        "outputId": "e773a96b-a224-4292-e571-b9d18cfb9a3c"
      },
      "source": [
        "# Derivada - Función a trozos\n",
        "cuadratica = lambda x: 2*p[0]*x + p[1]\n",
        "asintotica = lambda x: 1/((x-1.8)**2)\n",
        "\n",
        "dom2 = np.linspace(d[1],d[-1],len(alt_neta[1:-1])); dom3 = np.linspace(d[-1],2.3,n)\n",
        "plt.figure(figsize=(10,6))\n",
        "plt.plot(dom2,cuadratica(dom2),'-o',label='Ajuste cuadrático')\n",
        "plt.plot(dom3,asintotica(dom3),'-^',label='Ajuste asintótico')\n",
        "plt.xlabel('Altura neta (m)'); plt.ylabel('Rendimiento total (%)')\n",
        "plt.title('Rendimiento de una turbina Pelton con respecto a su altura neta')\n",
        "plt.legend(); plt.grid(); plt.show()\n",
        "\n",
        "print('Rendimiento total(%) a',round(alt_neta[-1],1),'m de Altura neta: ','(',round(cuadratica(alt_neta[-1]),3),',',round(asintotica(alt_neta[-1]),3),')')\n",
        "print('Diferencia: ', abs(round(asintotica(alt_neta[-1])-cuadratica(alt_neta[-1]),2)),'%')"
      ],
      "execution_count": null,
      "outputs": [
        {
          "output_type": "display_data",
          "data": {
            "image/png": "[encoded data removed]",
            "text/plain": [
              "<Figure size 720x432 with 1 Axes>"
            ]
          },
          "metadata": {
            "tags": [],
            "needs_background": "light"
          }
        },
        {
          "output_type": "stream",
          "text": [
            "Rendimiento total(%) a 1700.0 m de Altura neta:  ( 0.02 , 0.0 )\n",
            "Diferencia:  0.02 %\n"
          ],
          "name": "stdout"
        }
      ]
    },
    {
      "cell_type": "markdown",
      "metadata": {
        "id": "BUEXDybBygSH"
      },
      "source": [
        "# ***Turbina Francis***"
      ]
    },
    {
      "cell_type": "markdown",
      "metadata": {
        "id": "Lv7Zalpqyno3"
      },
      "source": [
        "## *Particular*"
      ]
    },
    {
      "cell_type": "code",
      "metadata": {
        "id": "g5fVgC42yiVO",
        "colab": {
          "base_uri": "https://localhost:8080/",
          "height": 262,
          "referenced_widgets": [
            "1750a119a7484a068fe0670f69ff0c87",
            "b4778aec2abc44f5bd4d92f4db1c567e",
            "4981a4b6859544e7a4f436480154b55e",
            "fc2682e4b67a4fe1b5cf34b253947406",
            "1d746ef4768d470f9fcec903ba197f94",
            "f4c2de1108a44c2c87af8aed05184ad3",
            "232a899c512d4a14aff6fd5022945219",
            "b28c8b4f9a6e4d46ad4e196d3a92a8a9",
            "ba0050c02fcf4be092231d1d30520a4b",
            "eaaed23decce48ce93b7c34efc2eb23d",
            "2f11db6382b54cd9a9145d9348d2377d",
            "513e4d0271a047e59d214566c94af220",
            "ee9745a06b1d409a81bb995e311e6629",
            "645192c221524b949ae7fad4bb270259",
            "ead9ef8832d34c8298836bc2a06e5268",
            "1481aaed8bf64496b65f4a11f2c7e865"
          ]
        },
        "outputId": "24650d1f-a96e-4866-d7bd-a9f07108ca95"
      },
      "source": [
        "def prop(alt_neta,Dt,di,i):\n",
        "  di=di/100; d = np.sqrt(i*(di**2))\n",
        "  Dt=Dt/100; C1 = 0.97*np.sqrt(2*9.806*alt_neta); C2 = 0.7*C1\n",
        "  u1 = C1*0.75; u2 = C2*0.75; n = 60*u1/(np.pi*Dt)\n",
        "  Q = C1*(np.pi*(di**2)/4); Qr = (C1-u1)*(np.pi*(di**2)/4)\n",
        "  W1 = C1-u1; C1u = u1-(W1*np.cos(0*np.pi/180))\n",
        "  'Ve = 4*Q/(np.pi*(Dt**2))'; B2 = np.random.uniform(low=0,high=90)\n",
        "  alt_util = u1*(C1u)/9.806; nH = alt_util/alt_neta; nt = nH*0.97*0.98\n",
        "  F = 1000*Qr*(C1-u1)*(1-np.cos(B2*np.pi/180))\n",
        "  P = 9806*Q*alt_neta*nt; print('\\n')\n",
        "\n",
        "  print('Pérdida hidráulica: ',round(alt_neta-alt_util,2), 'm')\n",
        "  print('Velocidad angular: ', round(n/100,2), 'rpm')\n",
        "  print('Caudal: ', round(Q*1000,2), 'L/s')\n",
        "  #print('Velocidad en la tuberia: ', round(Ve,2), 'm/s')\n",
        "  print('Potencia: ', round(P,2), 'W')\n",
        "  print('Rendimiento total: ', round(nt*100,2), '%')\n",
        "\n",
        "interact(prop, alt_neta = widgets.IntText(description=\"Altura neta (m): \",value='1',step=10),\n",
        "  Dt = widgets.FloatSlider(description=\"Diámetro de la turbina (m): \",min=0.1,max=1,step=0.01),\n",
        "  di = widgets.FloatSlider(description=\"Diámetro del chorro (cm): \",min=0,max=10,step=0.5),\n",
        "  i = widgets.IntText(description=\"Inyectores: \",value='1',step=1))\n",
        "plt.show()"
      ],
      "execution_count": null,
      "outputs": [
        {
          "output_type": "display_data",
          "data": {
            "application/vnd.jupyter.widget-view+json": {
              "model_id": "1750a119a7484a068fe0670f69ff0c87",
              "version_minor": 0,
              "version_major": 2
            },
            "text/plain": [
              "interactive(children=(IntText(value=1, description='Altura neta (m): ', step=10), FloatSlider(value=0.1, descr…"
            ]
          },
          "metadata": {
            "tags": []
          }
        }
      ]
    },
    {
      "cell_type": "code",
      "metadata": {
        "colab": {
          "base_uri": "https://localhost:8080/"
        },
        "id": "-wbZQA7s4QCi",
        "outputId": "adcc6d03-8114-4990-9fc4-2956619fa0d4"
      },
      "source": [
        "alt_neta=120; Q=700\n",
        "Q=Q/1000; C1 = 0.97*np.sqrt(2*9.807*alt_neta); C2 = 0.7*C1\n",
        "u1 = C1*0.5; u2 = C2*0.5; di = np.sqrt(4*Q/(C1*np.pi))\n",
        "W1 = C1-u1; C1u = u1-(W1*np.cos(0*np.pi/180))\n",
        "alt_util = u1*(C1)/9.806; nH = alt_util/alt_neta; nt = nH*0.97*0.98\n",
        "P = 1000*Q*(u1*C1); a1 = np.arccos((2*P/(2*u1*Q*1000*C1))*np.pi/180)\n",
        "Dt = np.sqrt((4*Q/(np.pi*(1-(0.1)**2)*C1))/np.sin(a1))\n",
        "w = u1/(Dt/2); n = w*30/np.pi; print('\\n')\n",
        "print('Pérdidas hidráulicas: ',round(alt_neta-alt_util,2), 'm')\n",
        "print('Diámetro del inyector: ', round(di*100,2), 'cm')\n",
        "print('Diámetro de la turbina: ', round(Dt*100,2), 'cm')\n",
        "print('Velocidad angular: ', round(n,2), 'rpm')\n",
        "print('Potencia: ', round(P/1000,2), 'kW')\n",
        "print('Rendimiento total: ', round(nt*100,2), '%')"
      ],
      "execution_count": null,
      "outputs": [
        {
          "output_type": "stream",
          "text": [
            "\n",
            "\n",
            "Pérdidas hidráulicas:  7.08 m\n",
            "Diámetro del inyector:  13.76 cm\n",
            "Diámetro de la turbina:  13.83 cm\n",
            "Velocidad angular:  3248.78 rpm\n",
            "Potencia:  775.1 kW\n",
            "Rendimiento total:  89.45 %\n"
          ],
          "name": "stdout"
        }
      ]
    },
    {
      "cell_type": "markdown",
      "metadata": {
        "id": "4pTWpT7BwzTM"
      },
      "source": [
        "## *General*"
      ]
    },
    {
      "cell_type": "markdown",
      "metadata": {
        "id": "q1DHIGiUw9BT"
      },
      "source": [
        "### *Cálculos*"
      ]
    },
    {
      "cell_type": "code",
      "metadata": {
        "id": "uNrAD18Nw_08",
        "colab": {
          "base_uri": "https://localhost:8080/",
          "height": 101
        },
        "outputId": "3125a672-fb45-483f-d5a8-f73a82679bd1"
      },
      "source": [
        "print('Datos: '); n = 8\n",
        "Dt=0.18; di=2.12; i=4\n",
        "alt_neta = np.linspace(1*(10**-6),1700,n)\n",
        "di=di/100; d = np.sqrt(i*(di**2))\n",
        "Dt=Dt/100; C1 = np.linspace(1*(10**-6),120,n); C2 = 0.7*C1\n",
        "u1 = C1*0.75; u2 = C2*0.75; w = u1/Dt; n = 30*w/np.pi\n",
        "Q = C1*(np.pi*(di**2)/4); Qr = (C1-u1)*(np.pi*(di**2)/4)\n",
        "u1 = w*di/2; W1 = C1-u1; C1u = C1\n",
        "'Ve = 4*Q/(np.pi*(Dt**2))'; B2 = np.random.uniform(low=0,high=90)\n",
        "alt_util = u1*(C1u)/9.806; nH = alt_util/alt_neta; nt = nH*0.97*0.98\n",
        "F = 1000*Qr*(C1-u1)*(1-np.cos(B2*np.pi/180))\n",
        "P = 1000*Q*(u1*C1u); print('\\n'); n = 60*u/(np.pi*Dt); D = 30*C1/(np.pi*n)\n",
        "display(P)"
      ],
      "execution_count": null,
      "outputs": [
        {
          "output_type": "stream",
          "text": [
            "Datos: \n",
            "\n",
            "\n"
          ],
          "name": "stdout"
        },
        {
          "output_type": "display_data",
          "data": {
            "text/plain": [
              "array([1.55903630e-18, 7.85427151e+03, 6.28341666e+04, 2.12065306e+05,\n",
              "       5.02673311e+05, 9.81783801e+05, 1.69652240e+06, 2.69401472e+06])"
            ]
          },
          "metadata": {
            "tags": []
          }
        }
      ]
    },
    {
      "cell_type": "markdown",
      "metadata": {
        "id": "72_UUms0w__K"
      },
      "source": [
        "### Rendimiento vs Altura neta"
      ]
    },
    {
      "cell_type": "code",
      "metadata": {
        "id": "DCR-RnDIw164",
        "colab": {
          "base_uri": "https://localhost:8080/",
          "height": 735
        },
        "outputId": "29ace5b5-ccb3-4843-9f83-d127dac7d8c9"
      },
      "source": [
        "# Ajuste potencial\n",
        "print('Último dato a tomar: '); dat = int(input()); alt_neta0 = alt_neta[:dat]\n",
        "model = LinearRegression()\n",
        "Y = np.log(nt[:dat]); X = np.log(alt_neta0.reshape(-1,1)); model.fit(X,Y)\n",
        "r2 = model.score(X,Y); b = model.intercept_; m = model.coef_[0]\n",
        "r2 = round(r2,5); b = round(b,4); m = round(m,4); a = round(np.exp(b),4)\n",
        "w1 = a*(alt_neta0.reshape(-1,1)**m)\n",
        "\n",
        "# Ajustes de cuadrático\n",
        "reg_poly = PolynomialFeatures(degree=2)\n",
        "alt_neta_ajust = reg_poly.fit_transform(alt_neta.reshape(-1,1))\n",
        "rp = linear_model.LinearRegression(); rp.fit(alt_neta_ajust,nt)\n",
        "nt_ajust = rp.predict(alt_neta_ajust)\n",
        "\n",
        "# Ajustes de los datos - Rendimiento(%) vs Altura neta(m)\n",
        "fig, axes = plt.subplots(2,2, figsize=(13,9))\n",
        "axes[0,0].plot(alt_neta,nt,'r*',alpha=0.65,ms=12)\n",
        "axes[0,0].set_xlabel('Altura neta (m)'); axes[0,0].set_ylabel('Rendimiento total (%)')\n",
        "axes[0,0].set_title('Datos'); axes[0,0].grid()\n",
        "axes[0,1].plot(alt_neta0,w1,'c',lw=3)\n",
        "axes[0,1].plot(alt_neta0,nt[:dat],'r*',alpha=0.7,ms=9.5)\n",
        "axes[0,1].set_xlabel('Altura neta (m)'); axes[0,1].set_ylabel('Rendimiento total (%)')\n",
        "axes[0,1].set_title('Ajuste potencial'); axes[0,1].grid()\n",
        "axes[1,0].plot(alt_neta,nt,'r*',alpha=0.7,ms=9.5)\n",
        "axes[1,0].plot(alt_neta, nt_ajust,'c',lw=3)\n",
        "axes[1,0].set_xlabel('Altura neta (m)'); axes[1,0].set_ylabel('Rendimiento total (%)')\n",
        "axes[1,0].set_title('Ajuste cuadrático'); axes[1,0].grid()\n",
        "plt.subplots_adjust(hspace = 0.3, wspace = 0.2); plt.show()\n",
        "\n",
        "print('La ecuación del ajuste potencial es: \\n', 'nt(H) =',a, 'H^',m)\n",
        "print('El coeficiente de correlación es:', r2); print('\\n')\n",
        "print('La ecuación del ajuste cuadrático es: \\n', 'nt(H) =',round(rp.coef_[2],6), 'H^2 +',round(rp.coef_[1],4),'H +','(',round(rp.intercept_,4),')')\n",
        "print('El coeficiente de correlación es:', round(rp.score(alt_neta_ajust,nt),4))"
      ],
      "execution_count": null,
      "outputs": [
        {
          "output_type": "stream",
          "text": [
            "Último dato a tomar: \n",
            "8\n"
          ],
          "name": "stdout"
        },
        {
          "output_type": "display_data",
          "data": {
            "image/png": "[encoded data removed]",
            "text/plain": [
              "<Figure size 936x648 with 4 Axes>"
            ]
          },
          "metadata": {
            "tags": [],
            "needs_background": "light"
          }
        },
        {
          "output_type": "stream",
          "text": [
            "La ecuación del ajuste potencial es: \n",
            " nt(H) = 0.012 H^ 0.7437\n",
            "El coeficiente de correlación es: 0.99909\n",
            "\n",
            "\n",
            "La ecuación del ajuste cuadrático es: \n",
            " nt(H) = 0.0 H^2 + 0.0021 H + ( 0.0 )\n",
            "El coeficiente de correlación es: 1.0\n"
          ],
          "name": "stdout"
        }
      ]
    },
    {
      "cell_type": "markdown",
      "metadata": {
        "id": "5mWWlCArp085"
      },
      "source": [
        "# ***Turbina Kaplan***"
      ]
    },
    {
      "cell_type": "code",
      "metadata": {
        "id": "YIT6Tgcvp6SD",
        "colab": {
          "base_uri": "https://localhost:8080/",
          "height": 198,
          "referenced_widgets": [
            "76b74e1a1265452aa3f1696577841068",
            "ca967e20caef4f43a121faa5f01b094e",
            "b6c8dbe0919b4068a640cdf51dfa3176",
            "fa311c46263146be9fdfee2ebda85276",
            "95b6222013724ed887d4d3e251d4bf7c",
            "f7340219226a496abcb1750a1a8b08d5",
            "c1cc5535bd4442409035dab628bc5e53",
            "d19f1f3c41b647fba4ffe5ba0fe7bfd5",
            "efb0eb56028d458992c77852d212a406",
            "4034ce78360a4532a8097b083c671e9c"
          ]
        },
        "outputId": "325baa38-c419-4095-eb49-be63a2b52dc5"
      },
      "source": [
        "def prop(alt_neta,Q):\n",
        "  Q=Q/1000; C1 = 0.97*np.sqrt(2*9.807*alt_neta)\n",
        "  Pt = Q*1000*9.807*alt_neta; Pu = Pt/(0.9*0.96*0.9)\n",
        "  u = 1.575*np.sqrt(2*9.807*alt_neta); c_ = 4*Q/(np.pi*(1-(0.51)**2)*C1)\n",
        "  c__ = 2*Pu/(2*u*Q*1000*C1); a1 = np.arccos(c__*np.pi/180)*180/np.pi\n",
        "  De = np.sqrt(c_/(np.sin(a1))); Di = 0.51*De\n",
        "  w = u/(De/2); n = 30*w/np.pi; nq = n*np.sqrt(Q)/alt_neta**(3/4)\n",
        "  #ns = 3.65*np.sqrt(0.97)*nq; C = (6.94*(ns**-(0.403))*De)\n",
        "  #ai = (0.38 + 5.17*(10**5)*ns)*De; aa = 1/3*(C+ai)\n",
        "  C1u = C1*np.cos(a1*np.pi/180); alt_util = u*(C1u)/9.807\n",
        "  nH = alt_util/alt_neta; nt = nH*0.97*0.98\n",
        "\n",
        "  print('\\n'); print('Pérdida hidráulica: ',round(alt_neta*(1-alt_util),2), 'm')\n",
        "  print('Diámetro externo: ', round(De*100,2), 'cm')\n",
        "  #print('Curvatura del álabe: ', round(C*100,2), 'cm')\n",
        "  #print('Ancho del álabe: ', round(aa*100,2), 'cm')\n",
        "  print('Velocidad angular: ', round(n,2), 'rpm')\n",
        "  print('Potencia útil: ', round(Pu,2), 'W')\n",
        "  print('Rendimiento total: ', round(nt*1000,2), '%')\n",
        "\n",
        "interact(prop, alt_neta = widgets.IntText(description=\"Altura neta (m): \",value='1',step=10),\n",
        "  Q = widgets.FloatSlider(description=\"Caudal (cm): \",min=0.001,max=500,step=10))\n",
        "plt.show()"
      ],
      "execution_count": null,
      "outputs": [
        {
          "output_type": "display_data",
          "data": {
            "application/vnd.jupyter.widget-view+json": {
              "model_id": "76b74e1a1265452aa3f1696577841068",
              "version_minor": 0,
              "version_major": 2
            },
            "text/plain": [
              "interactive(children=(IntText(value=1, description='Altura neta (m): ', step=10), FloatSlider(value=0.001, des…"
            ]
          },
          "metadata": {
            "tags": []
          }
        }
      ]
    },
    {
      "cell_type": "code",
      "metadata": {
        "colab": {
          "base_uri": "https://localhost:8080/"
        },
        "id": "wGC49XCRvbV2",
        "outputId": "0c8a0ef5-0c2e-4a89-f807-0d468f3ca786"
      },
      "source": [
        "alt_neta=120; Q=700; \n",
        "Q=Q/1000; C1 = 0.97*np.sqrt(2*9.807*alt_neta)\n",
        "Pt = Q*1000*9.807*alt_neta; Pu = Pt/(0.9*0.96*0.9)\n",
        "u = 1.575*np.sqrt(2*9.807*alt_neta); c_ = 4*Q/(np.pi*(1-(0.51)**2)*C1)\n",
        "c__ = 2*Pu/(2*u*Q*1000*C1); a1 = np.arccos(c__*np.pi/180)\n",
        "De = np.sqrt(c_/(np.sin(a1))); Di = 0.51*De\n",
        "w = u/(De/2); n = 30*w/np.pi; nq = n*np.sqrt(Q)/alt_neta**(3/4)\n",
        "C1u = C1*np.cos(a1); alt_util = u*(C1u)/9.807\n",
        "nH = alt_util/alt_neta; nt = nH*0.97*0.98\n",
        "\n",
        "print('Pérdida hidráulica: ',round(alt_neta*(1-alt_util),2), 'm')\n",
        "print('Diámetro externo: ', round(De*100,2), 'cm')\n",
        "print('Velocidad angular: ', round(n,2), 'rpm')\n",
        "print('Potencia útil: ', round(Pt/1000,2), 'kW')\n",
        "print('Rendimiento total: ', round(nt*1000,2), '%')"
      ],
      "execution_count": null,
      "outputs": [
        {
          "output_type": "stream",
          "text": [
            "Pérdida hidráulica:  -203.21 m\n",
            "Diámetro externo:  16.0 cm\n",
            "Velocidad angular:  9121.26 rpm\n",
            "Potencia útil:  823.79 kW\n",
            "Rendimiento total:  21.34 %\n"
          ],
          "name": "stdout"
        }
      ]
    },
    {
      "cell_type": "markdown",
      "metadata": {
        "id": "6-BAv-IOfotP"
      },
      "source": [
        "# ***Combinación***"
      ]
    },
    {
      "cell_type": "code",
      "metadata": {
        "id": "yPZZfNrxfslE",
        "colab": {
          "base_uri": "https://localhost:8080/",
          "height": 247,
          "referenced_widgets": [
            "f95767857ade4fb89182300494b05c13",
            "7027330e3413405cbc240399cc7c0f41",
            "76d02e6aa56f4c12909af57a1f00b1df",
            "4043ed691e67466ca84d0872a288b154",
            "1476230b35794ddca472c1ad9638c3fd",
            "50a786d5c5594614884fb017fa08b91c",
            "c2e88ecbcf2d4fadbe5a92cbb10cfbdf",
            "d38e05631e7740c6844ccbfffeb63591",
            "5956873023fd4d09a31617e33f1e0b1a",
            "225ec0c70adf4e16b7a4387792540d72",
            "54fd528c6b1348dd90a1bd40a6e93f4d",
            "c6649351ffd54ff8ac649e0a60633d67",
            "4f3bcc32e4304aa5abaca08fc921954d",
            "64b9a26a54c64fbd9ea5d75d8131c159",
            "895eb96342c949468f3f438d0eff7843",
            "dd22085f1ed24f319cea1b82fded737f",
            "9115539552d34384bc770311472b6c1c"
          ]
        },
        "outputId": "3a965105-3f5a-412e-b459-91b0c8fc3af5"
      },
      "source": [
        "def t(T):\n",
        "  if T == 'Pelton':\n",
        "    def prop(alt_neta,Q):\n",
        "      Q=Q/1000; C1 = 0.97*np.sqrt(2*9.807*alt_neta)\n",
        "      u = C1*0.55; W1 = C1-u; W2 = 0.8*W1\n",
        "      B2 = 12;  C2u = u-(W2*np.cos(B2*np.pi/180))\n",
        "      P = -1000*Q*u*(C2u-C1); a1 = np.arccos(2*P/(2*u*Q*1000*C1))\n",
        "      di = np.sqrt(4*Q/(C1*np.pi)); alt_util = u*(C1*np.cos(a1*np.pi/180)-C2u)/9.807\n",
        "      nH = alt_util/alt_neta; nt = nH*0.97*100\n",
        "      Dt = np.sqrt((4*Q/(np.pi*(1-(0.51)**2)*C1))/np.sin(a1*np.pi/180))\n",
        "      w = u/(Dt/2); n = w*30/np.pi; print('\\n')\n",
        "      print('Pérdidas hidráulicas: ',round(alt_neta-alt_util,2), 'm')\n",
        "      print('Diámetro del inyector: ', round(di*100,2), 'cm')\n",
        "      print('Diámetro de la turbina: ', round(Dt*100,2), 'cm')\n",
        "      print('Velocidad angular: ', round(n,2), 'rpm')\n",
        "      print('Potencia: ', round(P,2), 'W')\n",
        "      print('Rendimiento total: ', round(nt,2), '%')\n",
        "    interact(prop, alt_neta = widgets.IntText(description=\"Altura neta (m): \",value='1',step=10),\n",
        "      Q = widgets.FloatSlider(description=\"Caudal: \",min=1,max=30000,step=1))\n",
        "    plt.show()\n",
        "  \n",
        "  if T == 'Francis':\n",
        "    def prop(alt_neta,Q):\n",
        "      Q=Q/1000; C1 = 0.97*np.sqrt(2*9.807*alt_neta); C2 = 0.7*C1\n",
        "      u1 = C1*0.5; u2 = C2*0.5; di = np.sqrt(4*Q/(C1*np.pi))\n",
        "      W1 = C1-u1; C1u = u1-(W1*np.cos(0*np.pi/180))\n",
        "      alt_util = u1*(C1)/9.806; nH = alt_util/alt_neta; nt = nH*0.97*0.98\n",
        "      P = 1000*Q*(u1*C1); a1 = np.arccos((2*P/(2*u1*Q*1000*C1))*np.pi/180)\n",
        "      Dt = np.sqrt((4*Q/(np.pi*(1-(0.1)**2)*C1))/np.sin(a1))\n",
        "      w = u1/(Dt/2); n = w*30/np.pi; print('\\n')\n",
        "      print('Pérdidas hidráulicas: ',round(alt_neta-alt_util,2), 'm')\n",
        "      print('Diámetro del inyector: ', round(di*100,2), 'cm')\n",
        "      print('Diámetro de la turbina: ', round(Dt*100,2), 'cm')\n",
        "      print('Velocidad angular: ', round(n,2), 'rpm')\n",
        "      print('Potencia: ', round(P/1000,2), 'kW')\n",
        "      print('Rendimiento total: ', round(nt*100,2), '%')\n",
        "\n",
        "    interact(prop, alt_neta = widgets.IntText(description=\"Altura neta (m): \",value='1',step=10),\n",
        "      Q = widgets.FloatSlider(description=\"Caudal: \",min=1,max=30000,step=1))\n",
        "    plt.show()\n",
        "\n",
        "  if T == 'Kaplan':\n",
        "    def prop(alt_neta,Q):\n",
        "      Q=Q/1000; C1 = 0.97*np.sqrt(2*9.807*alt_neta)\n",
        "      Pt = Q*1000*9.807*alt_neta; Pu = Pt/(0.9*0.96*0.9)\n",
        "      u = 1.575*np.sqrt(2*9.807*alt_neta); c_ = 4*Q/(np.pi*(1-(0.51)**2)*C1)\n",
        "      c__ = 2*Pu/(2*u*Q*1000*C1); a1 = np.arccos(c__*np.pi/180)\n",
        "      De = np.sqrt(c_/(np.sin(a1))); Di = 0.51*De\n",
        "      w = u/(De/2); n = 30*w/np.pi; nq = n*np.sqrt(Q)/alt_neta**(3/4)\n",
        "      C1u = C1*np.cos(a1); alt_util = u*(C1u)/9.807\n",
        "      nH = alt_util/alt_neta; nt = nH*0.97*0.98; print('\\n')\n",
        "      print('Pérdida hidráulica: ',round(alt_neta*(1-alt_util),2), 'm')\n",
        "      print('Diámetro externo: ', round(De*100,2), 'cm')\n",
        "      print('Velocidad angular: ', round(n,2), 'rpm')\n",
        "      print('Potencia útil: ', round(Pt/1000,2), 'kW')\n",
        "      print('Rendimiento total: ', round(nt*1000,2), '%')\n",
        "    interact(prop, alt_neta = widgets.FloatText(description=\"Altura neta (m): \",value='1',step=10),\n",
        "      Q = widgets.FloatSlider(description=\"Caudal (L/s): \",min=0.001,max=300,step=5))\n",
        "    plt.show()\n",
        "\n",
        "interact(t, T = widgets.Dropdown(options=['Pelton','Francis','Kaplan'],description='Turbina :'))\n",
        "plt.show()"
      ],
      "execution_count": null,
      "outputs": [
        {
          "output_type": "display_data",
          "data": {
            "application/vnd.jupyter.widget-view+json": {
              "model_id": "f95767857ade4fb89182300494b05c13",
              "version_minor": 0,
              "version_major": 2
            },
            "text/plain": [
              "interactive(children=(Dropdown(description='Turbina :', options=('Pelton', 'Francis', 'Kaplan'), value='Pelton…"
            ]
          },
          "metadata": {
            "tags": []
          }
        }
      ]
    },
    {
      "cell_type": "code",
      "metadata": {
        "colab": {
          "base_uri": "https://localhost:8080/",
          "height": 329
        },
        "id": "oXSsmRx4oWUP",
        "outputId": "ea1fa67f-ea99-4322-be97-b1cb61cc2448"
      },
      "source": [
        "#n=int(input())\n",
        "alt_neta = np.linspace(100,500,100); Dt = 4; di = 0.3\n",
        "C1 = 0.97*np.sqrt(2*9.806*alt_neta); u = C1*0.75\n",
        "Q = C1*(np.pi*(di**2)/4); W1 = C1-u; W2 = 0.8*W1 \n",
        "B2 = 12; C2u = u-(W2*np.cos(B2*np.pi/180)); alt_util = u*(C1-C2u)/9.806\n",
        "nH = alt_util/alt_neta; nt = nH*0.97*100\n",
        "P = 1000*Q*u*(W1*np.cos(0*np.pi/180)+W2*np.cos(B2*np.pi/180))\n",
        "n = 60*u/(np.pi*Dt); D = 30*C1/(np.pi*n)\n",
        "\n",
        "Dt = 4; di = 0.25; C1 = 0.97*np.sqrt(2*9.806*alt_neta); C2 = 0.7*C1\n",
        "u1 = C1*0.75; u2 = C2*0.75; n = 60*u1/(np.pi*Dt)\n",
        "Q_ = C1*(np.pi*(di**2)/4); Qr = (C1-u1)*(np.pi*(di**2)/4)\n",
        "W1 = C1-u1; C1u = u1-(W1*np.cos(0*np.pi/180))\n",
        "B2 = np.random.uniform(low=0,high=90)\n",
        "alt_util = u1*(C1u)/9.806; nH = alt_util/alt_neta; nt = nH*0.97*0.98\n",
        "F = 1000*Qr*(C1-u1)*(1-np.cos(B2*np.pi/180))\n",
        "P_ = 9806*Q_*alt_neta*nt\n",
        "print(np.mean(Q_))\n",
        "\n",
        "Q = np.mean(((Q+Q_)*2)); C1 = 0.97*np.sqrt(2*9.807*alt_neta)\n",
        "Pt = Q*1000*9.807*alt_neta; Pu = Pt/(0.9*0.96*0.9)\n",
        "u = 1.575*np.sqrt(2*9.807*alt_neta); c_ = 4*Q/(np.pi*(1-(0.51)**2)*C1)\n",
        "c__ = 2*Pu/(2*u*Q*1000*C1); a1 = np.arccos(c__*np.pi/180)*180/np.pi\n",
        "De = np.sqrt(c_/(np.sin(a1))); Di = 0.51*De\n",
        "w = u/(De/2); n = 30*w/np.pi; nq = n*np.sqrt(Q)/alt_neta**(3/4)\n",
        "C1u = C1*np.cos(a1*np.pi/180); alt_util = u*(C1u)/9.807\n",
        "nH = alt_util/alt_neta; nt = nH*0.97*0.98\n",
        "print(Q)\n",
        "\n",
        "plt.plot(alt_neta,P/1000,color='darkcyan',lw=2.15,label='Pelton')\n",
        "plt.plot(alt_neta,P_/1000,color='darkred',lw=2.15,label='Francis')\n",
        "plt.plot(alt_neta,Pt/1000,color='darkgoldenrod',lw=2.6,label='Kaplan')\n",
        "plt.title('Potencia generada por una turbina a partir de su altura neta')\n",
        "plt.xlabel(r'Altura neta (m)'); plt.ylabel('Potencia (kW)')\n",
        "plt.legend(); plt.grid(ls='dashdot',lw=0.75); plt.show()"
      ],
      "execution_count": null,
      "outputs": [
        {
          "output_type": "stream",
          "text": [
            "3.5761008613345724\n",
            "17.45137220331271\n"
          ],
          "name": "stdout"
        },
        {
          "output_type": "display_data",
          "data": {
            "image/png": "[encoded data removed]",
            "text/plain": [
              "<Figure size 432x288 with 1 Axes>"
            ]
          },
          "metadata": {
            "tags": [],
            "needs_background": "light"
          }
        }
      ]
    },
    {
      "cell_type": "code",
      "metadata": {
        "colab": {
          "base_uri": "https://localhost:8080/",
          "height": 312
        },
        "id": "d5ytnf--dUrB",
        "outputId": "fe767fce-1dcc-4801-8a57-4b66882c224a"
      },
      "source": [
        "#n=int(input())\n",
        "alt_neta = np.linspace(1*(10**-5),100,5); Q = np.linspace(1*(10**-5),100,5)\n",
        "\n",
        "Q=Q/1000; C1 = 0.97*np.sqrt(2*9.807*alt_neta)\n",
        "u = C1*0.55; W1 = C1-u; W2 = 0.8*W1\n",
        "B2 = 12;  C2u = u-(W2*np.cos(B2*np.pi/180))\n",
        "P = -1000*Q*u*(C2u-C1); a1 = np.arccos(2*P/(2*u*Q*1000*C1))\n",
        "di = np.sqrt(4*Q/(C1*np.pi)); alt_util = u*(C1*np.cos(a1*np.pi/180)-C2u)/9.807\n",
        "nH = alt_util/alt_neta; nt = nH*0.97*100\n",
        "Dt = np.sqrt((4*Q/(np.pi*(1-(0.51)**2)*C1))/np.sin(a1*np.pi/180))\n",
        "w = u/(Dt/2); n = w*30/np.pi\n",
        "\n",
        "Q=Q/1000; C1 = 0.97*np.sqrt(2*9.807*alt_neta); C2 = 0.7*C1\n",
        "u1 = C1*0.5; u2 = C2*0.5; di = np.sqrt(4*Q/(C1*np.pi))\n",
        "W1 = C1-u1; C1u = u1-(W1*np.cos(0*np.pi/180))\n",
        "alt_util = u1*(C1)/9.806; nH = alt_util/alt_neta; nt = nH*0.97*0.98\n",
        "P_ = 1000*Q*(u1*C1); a1 = np.arccos((2*P/(2*u1*Q*1000*C1))*np.pi/180)\n",
        "Dt = np.sqrt((4*Q/(np.pi*(1-(0.1)**2)*C1))/np.sin(a1))\n",
        "w = u1/(Dt/2); n = w*30/np.pi\n",
        "\n",
        "Q=Q/1000; C1 = 0.97*np.sqrt(2*9.807*alt_neta)\n",
        "Pt = Q*1000*9.807*alt_neta; Pu = Pt/(0.9*0.96*0.9)\n",
        "u = 1.575*np.sqrt(2*9.807*alt_neta); c_ = 4*Q/(np.pi*(1-(0.51)**2)*C1)\n",
        "c__ = 2*Pu/(2*u*Q*1000*C1); a1 = np.arccos(c__*np.pi/180)\n",
        "De = np.sqrt(c_/(np.sin(a1))); Di = 0.51*De\n",
        "w = u/(De/2); n = 30*w/np.pi; nq = n*np.sqrt(Q)/alt_neta**(3/4)\n",
        "C1u = C1*np.cos(a1); alt_util = u*(C1u)/9.807\n",
        "\n",
        "plt.plot(alt_neta,P/1000,color='darkcyan',lw=2.15,label='Pelton')\n",
        "plt.plot(alt_neta,P_/1000,color='darkred',lw=2.15,label='Francis')\n",
        "plt.plot(alt_neta,Pt/1000,color='darkgoldenrod',lw=2.6,label='Kaplan')\n",
        "plt.title('Potencia generada por una turbina a partir de su altura neta')\n",
        "plt.xlabel(r'Altura neta (m)'); plt.ylabel('Potencia (kW)')\n",
        "plt.legend(); plt.grid(ls='dashdot',lw=0.75); plt.show()"
      ],
      "execution_count": null,
      "outputs": [
        {
          "output_type": "stream",
          "text": [
            "/usr/local/lib/python3.6/dist-packages/ipykernel_launcher.py:17: RuntimeWarning: invalid value encountered in arccos\n"
          ],
          "name": "stderr"
        },
        {
          "output_type": "display_data",
          "data": {
            "image/png": "[encoded data removed]",
            "text/plain": [
              "<Figure size 432x288 with 1 Axes>"
            ]
          },
          "metadata": {
            "tags": [],
            "needs_background": "light"
          }
        }
      ]
    },
    {
      "cell_type": "code",
      "metadata": {
        "colab": {
          "base_uri": "https://localhost:8080/",
          "height": 357
        },
        "id": "G6fE6BHE3dl7",
        "outputId": "542941f8-c7dd-473f-82b1-d33cc335feee"
      },
      "source": [
        "#n=int(input())\n",
        "fig = plt.figure(figsize=(9,6)); ax = fig.gca(projection='3d')\n",
        "\n",
        "alt_neta = np.linspace(200,1000,200); Q = np.linspace(1*(10**-5),10000,200)\n",
        "Q=Q/1000; C1 = 0.97*np.sqrt(2*9.807*alt_neta)\n",
        "u = C1*0.55; W1 = C1-u; W2 = 0.8*W1\n",
        "B2 = 12;  C2u = u-(W2*np.cos(B2*np.pi/180))\n",
        "P = -1000*Q*u*(C2u-C1); a1 = np.arccos(2*P/(2*u*Q*1000*C1))\n",
        "di = np.sqrt(4*Q/(C1*np.pi)); alt_util = u*(C1*np.cos(a1*np.pi/180)-C2u)/9.807\n",
        "nH = alt_util/alt_neta; nt = nH*0.97*100\n",
        "Dt = np.sqrt((4*Q/(np.pi*(1-(0.51)**2)*C1))/np.sin(a1*np.pi/180))\n",
        "w = u/(Dt/2); n = w*30/np.pi\n",
        "ax.plot(alt_neta[:113],Q[:113],P[P<30*(10**6)]/1000000,color='darkcyan',ls='-.',lw=5,label='Pelton')\n",
        "\n",
        "alt_neta = np.linspace(100,500,200); Q = np.linspace(8000,80000,200)\n",
        "Q=Q/1000; C1 = 0.97*np.sqrt(2*9.807*alt_neta); C2 = 0.7*C1\n",
        "u1 = C1*0.5; u2 = C2*0.5; di = np.sqrt(4*Q/(C1*np.pi))\n",
        "W1 = C1-u1; C1u = u1-(W1*np.cos(0*np.pi/180))\n",
        "alt_util = u1*(C1)/9.806; nH = alt_util/alt_neta; nt = nH*0.97*0.98\n",
        "P_ = 1000*Q*(u1*C1); a1 = np.arccos((2*P/(2*u1*Q*1000*C1))*np.pi/180)\n",
        "Dt = np.sqrt((4*Q/(np.pi*(1-(0.1)**2)*C1))/np.sin(a1))\n",
        "w = u1/(Dt/2); n = w*30/np.pi\n",
        "ax.plot(alt_neta[:33],Q[:33],P_[P_<30*(10**6)]/1000000,color='darkred',ls='-.',lw=5,label='Francis')\n",
        "\n",
        "alt_neta = np.linspace(1*(10**-5),100,200); Q = np.linspace(50000,200000,200)\n",
        "Q=Q/1000; C1 = 0.97*np.sqrt(2*9.807*alt_neta)\n",
        "Pt = Q*1000*9.807*alt_neta; Pu = Pt/(0.9*0.96*0.9)\n",
        "u = 1.575*np.sqrt(2*9.807*alt_neta); c_ = 4*Q/(np.pi*(1-(0.51)**2)*C1)\n",
        "c__ = 2*Pu/(2*u*Q*1000*C1); a1 = np.arccos(c__*np.pi/180)\n",
        "De = np.sqrt(c_/(np.sin(a1))); Di = 0.51*De\n",
        "w = u/(De/2); n = 30*w/np.pi; nq = n*np.sqrt(Q)/alt_neta**(3/4)\n",
        "C1u = C1*np.cos(a1); alt_util = u*(C1u)/9.807\n",
        "ax.plot(alt_neta[:63],Q[:63],Pt[Pt<30*(10**6)]/1000000,color='darkgoldenrod',ls='-.',lw=5,label='Kaplan')\n",
        "\n",
        "ax.set_title('Potencia generada por una turbina hidráulica',size=15.8)\n",
        "ax.set_xlabel('Altura neta (m)'); ax.set_ylabel(r'Caudal $(m^3/s)$')\n",
        "ax.set_zlabel('Potencia (MW)'); ax.set_zlim3d(0,30)\n",
        "ax.legend(loc=6); plt.show()"
      ],
      "execution_count": null,
      "outputs": [
        {
          "output_type": "display_data",
          "data": {
            "image/png": "[encoded data removed]",
            "text/plain": [
              "<Figure size 648x432 with 1 Axes>"
            ]
          },
          "metadata": {
            "tags": [],
            "needs_background": "light"
          }
        }
      ]
    },
    {
      "cell_type": "code",
      "metadata": {
        "colab": {
          "base_uri": "https://localhost:8080/",
          "height": 357
        },
        "id": "moP9eSbcjRWq",
        "outputId": "e7f34ef5-479c-4ecb-87df-9bf61ad322a8"
      },
      "source": [
        "#n=int(input())\n",
        "fig = plt.figure(figsize=(9,6)); ax = fig.gca(projection='3d')\n",
        "\n",
        "alt_neta = np.linspace(200,1000,200); Q = np.linspace(1*(10**-5),10000,200)\n",
        "Q=Q/1000; X,Y = np.meshgrid(alt_neta[:113],Q[:113])\n",
        "C1 = 0.97*np.sqrt(2*9.807*X); C11 = 0.97*np.sqrt(2*9.807*alt_neta)\n",
        "u = C1*0.55; W1 = C1-u; W2 = 0.8*W1; u1 = C11*0.55; W11 = C11-u1; W21 = 0.8*W11\n",
        "B2 = 12;  C2u = u-(W2*np.cos(B2*np.pi/180)); C2u1 = u1-(W21*np.cos(B2*np.pi/180))\n",
        "P = -1000*Y*u*(C2u-C1); P1 = -1000*Q*u1*(C2u1-C11)\n",
        "ax.plot_surface(X,Y,P/1000000,alpha=0.4)\n",
        "\n",
        "alt_neta = np.linspace(100,500,200); Q = np.linspace(8000,80000,200)\n",
        "Q=Q/1000; X,Y = np.meshgrid(alt_neta[:33],Q[:33])\n",
        "C1 = 0.97*np.sqrt(2*9.807*X); C2 = 0.7*C1\n",
        "u1 = C1*0.5; u2 = C2*0.5\n",
        "W1 = C1-u1; C1u = u1-(W1*np.cos(0*np.pi/180))\n",
        "P_ = 1000*Y*(u1*C1); \n",
        "ax.plot_surface(X,Y,P_/1000000,alpha=0.4,label='Francis')\n",
        "\n",
        "alt_neta = np.linspace(1*(10**-5),100,200); Q = np.linspace(50000,200000,200)\n",
        "Q=Q/1000; X,Y = np.meshgrid(alt_neta[:63],Q[:63])\n",
        "C1 = 0.97*np.sqrt(2*9.807*X)\n",
        "Pt = Y*1000*9.807*X; Pu = Pt/(0.9*0.96*0.9)\n",
        "ax.plot_surface(X,Y,Pt/1000000,alpha=0.4,label='Kaplan')\n",
        "\n",
        "ax.set_title('Potencia generada por una turbina a partir de su altura neta')\n",
        "ax.set_xlabel(r'Altura neta (m)'); ax.set_ylabel(r'Caudal $(m^3/s)$')\n",
        "ax.set_zlabel('Potencia (MW)'); ax.set_zlim3d(0,30); plt.show()"
      ],
      "execution_count": null,
      "outputs": [
        {
          "output_type": "display_data",
          "data": {
            "image/png": "[encoded data removed]",
            "text/plain": [
              "<Figure size 648x432 with 1 Axes>"
            ]
          },
          "metadata": {
            "tags": [],
            "needs_background": "light"
          }
        }
      ]
    }
  ]
}