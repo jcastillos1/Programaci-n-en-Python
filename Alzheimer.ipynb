{
  "nbformat": 4,
  "nbformat_minor": 0,
  "metadata": {
    "colab": {
      "provenance": []
    },
    "kernelspec": {
      "name": "python3",
      "display_name": "Python 3"
    },
    "language_info": {
      "name": "python"
    }
  },
  "cells": [
    {
      "cell_type": "code",
      "metadata": {
        "id": "66k7EA3QNh5p",
        "colab": {
          "base_uri": "https://localhost:8080/"
        },
        "outputId": "91eb7c44-d99f-4879-884f-13dedeedc4bc"
      },
      "source": [
        "def respuesta(p):\n",
        "  c=True; r = input(p)\n",
        "  while c==True: \n",
        "    if not(r=='si' or r=='no'): \n",
        "      print('¡Responda \"si\" o \"no\" sin comillas!'); r = input(p)\n",
        "    else: c=False\n",
        "  return r\n",
        "\n",
        "preguntas = ['¿Sufre de cambios de memoria que dificultan la vida cotidiana? (si/no)  ',\n",
        "             '¿Tiene dificultad para planificar o resolver problemas? (si/no)  ',\n",
        "             '¿Siente dificultad para desempeñar tareas habituales en la casa, en el trabajo o en su tiempo libre? (si/no)  ',\n",
        "             '¿Últimamente ha sufrido desorientación de tiempo o lugar (si/no)?  ',\n",
        "             '¿Dificultad para comprender imágenes visuales y cómo objetos se relacionan uno con el otro en el ambiente? (si/no)  ',\n",
        "             '¿Tiene nuevos problemas con el uso de palabras en el habla o escritura? (si/no)  ',\n",
        "             '¿Ha colocado objetos fuera de lugar o ha sentido falta de hablidad para retrasar sus pasos? (si/no)  ',\n",
        "             '¿Siente que toma malas decisiones, más de lo normal (regalar grandes sumas de dinero sin sentido, comprar bienes o productos que no comprarió normalmente, etc) (si/no)  ',\n",
        "             '¿Tiene pérdida de iniciativa para el trabajo o actividades sociales? (Pasatiempos, proyectos, eventos sociales, etc) (si/no)  ',\n",
        "             '¿Ha sentido cambios en el humor o en la personalidad? (si/no)  ']\n",
        "\n",
        "r = []\n",
        "for p in preguntas: r.append(respuesta(p))\n",
        "for i in set(r): \n",
        "  if i=='si': si = r.count(i)\n",
        "print('\\n DIAGNÓSTICO: ')\n",
        "if 7<=si<=10: print('DEBE DIRIGIRSE CON UN PROFESIONAL PARA QUE LE RECOMIENDE EL PASO A SEGUIR')\n",
        "if 4<=si<7: print('VISITE AL MÉDICO DE FAMILIA PARA DESCARTAR POSIBILIDADES')\n",
        "if 0<=si<4: print('PUEDE ESTAR TRANQUILO, MUY POSIBLEMENTE USTED NO TIENE ALZHEIMER')"
      ],
      "execution_count": null,
      "outputs": [
        {
          "output_type": "stream",
          "name": "stdout",
          "text": [
            "¿Sufre de cambios de memoria que dificultan la vida cotidiana? (si/no)  si\n",
            "¿Tiene dificultad para planificar o resolver problemas? (si/no)  si\n",
            "¿Siente dificultad para desempeñar tareas habituales en la casa, en el trabajo o en su tiempo libre? (si/no)  si\n",
            "¿Últimamente ha sufrido desorientación de tiempo o lugar (si/no)?  si\n",
            "¿Dificultad para comprender imágenes visuales y cómo objetos se relacionan uno con el otro en el ambiente? (si/no)  no\n",
            "¿Tiene nuevos problemas con el uso de palabras en el habla o escritura? (si/no)  no\n",
            "¿Ha colocado objetos fuera de lugar o ha sentido falta de hablidad para retrasar sus pasos? (si/no)  no\n",
            "¿Siente que toma malas decisiones, más de lo normal (regalar grandes sumas de dinero sin sentido, comprar bienes o productos que no comprarió normalmente, etc) (si/no)  no\n",
            "¿Tiene pérdida de iniciativa para el trabajo o actividades sociales? (Pasatiempos, proyectos, eventos sociales, etc) (si/no)  no\n",
            "¿Ha sentido cambios en el humor o en la personalidad? (si/no)  no\n",
            "\n",
            " DIAGNÓSTICO: \n",
            "VISITE AL MÉDICO DE FAMILIA PARA DESCARTAR POSIBILIDADES\n"
          ]
        }
      ]
    }
  ]
}